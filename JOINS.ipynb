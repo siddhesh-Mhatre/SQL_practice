{
 "cells": [
  {
   "cell_type": "code",
   "execution_count": 1,
   "metadata": {},
   "outputs": [
    {
     "name": "stdout",
     "output_type": "stream",
     "text": [
      "Note: you may need to restart the kernel to use updated packages.\n"
     ]
    },
    {
     "name": "stderr",
     "output_type": "stream",
     "text": [
      "DEPRECATION: textract 1.6.5 has a non-standard dependency specifier extract-msg<=0.29.*. pip 23.3 will enforce this behaviour change. A possible replacement is to upgrade to a newer version of textract or contact the author to suggest that they release a version with a conforming dependency specifiers. Discussion can be found at https://github.com/pypa/pip/issues/12063\n"
     ]
    }
   ],
   "source": [
    "%pip install jupysql --quiet"
   ]
  },
  {
   "cell_type": "code",
   "execution_count": 2,
   "metadata": {},
   "outputs": [],
   "source": [
    "%load_ext sql"
   ]
  },
  {
   "cell_type": "code",
   "execution_count": 3,
   "metadata": {},
   "outputs": [
    {
     "data": {
      "text/html": [
       "<span style=\"None\">Connecting to &#x27;sqlite://&#x27;</span>"
      ],
      "text/plain": [
       "Connecting to 'sqlite://'"
      ]
     },
     "metadata": {},
     "output_type": "display_data"
    },
    {
     "data": {
      "text/html": [
       "<span style=\"color: green\">3 rows affected.</span>"
      ],
      "text/plain": [
       "3 rows affected."
      ]
     },
     "metadata": {},
     "output_type": "display_data"
    },
    {
     "data": {
      "text/html": [
       "<span style=\"color: green\">4 rows affected.</span>"
      ],
      "text/plain": [
       "4 rows affected."
      ]
     },
     "metadata": {},
     "output_type": "display_data"
    },
    {
     "data": {
      "text/html": [
       "<table>\n",
       "    <thead>\n",
       "        <tr>\n",
       "        </tr>\n",
       "    </thead>\n",
       "    <tbody>\n",
       "    </tbody>\n",
       "</table>"
      ],
      "text/plain": [
       "++\n",
       "||\n",
       "++\n",
       "++"
      ]
     },
     "execution_count": 3,
     "metadata": {},
     "output_type": "execute_result"
    }
   ],
   "source": [
    "%%sql sqlite://\n",
    "-- Create customers table\n",
    "CREATE TABLE customers (\n",
    "  customer_id INT PRIMARY KEY,\n",
    "  customer_name VARCHAR(255),\n",
    "  email VARCHAR(255)\n",
    ");\n",
    "\n",
    "-- Create orders table\n",
    "CREATE TABLE orders (\n",
    "  order_id INT PRIMARY KEY,\n",
    "  customer_id INT,\n",
    "  order_date DATE,\n",
    "  total_amount DECIMAL(10, 2),\n",
    "  FOREIGN KEY (customer_id) REFERENCES customers(customer_id)\n",
    ");\n",
    "\n",
    "-- Insert some sample data into customers table\n",
    "INSERT INTO customers (customer_id, customer_name, email)\n",
    "VALUES\n",
    "  (1, 'John Doe', 'john.doe@example.com'),\n",
    "  (2, 'Jane Smith', 'jane.smith@example.com'),\n",
    "  (3, 'Bob Johnson', 'bob.johnson@example.com');\n",
    "\n",
    "-- Insert some sample data into orders table\n",
    "INSERT INTO orders (order_id, customer_id, order_date, total_amount)\n",
    "VALUES\n",
    "  (101, 1, '2022-01-15', 150.00),\n",
    "  (102, 2, '2022-01-16', 200.50),\n",
    "  (103, 1, '2022-01-17', 100.75),\n",
    "  (104, 3, '2022-01-18', 300.00);\n"
   ]
  },
  {
   "cell_type": "markdown",
   "metadata": {},
   "source": [
    "### INNER JOIN ->\n",
    "Returns records that have\n",
    "matching values in both\n",
    "tables"
   ]
  },
  {
   "cell_type": "code",
   "execution_count": 4,
   "metadata": {},
   "outputs": [
    {
     "data": {
      "text/html": [
       "<table>\n",
       "    <thead>\n",
       "        <tr>\n",
       "            <th>customer_id</th>\n",
       "            <th>customer_name</th>\n",
       "            <th>email</th>\n",
       "            <th>order_id</th>\n",
       "            <th>customer_id_1</th>\n",
       "            <th>order_date</th>\n",
       "            <th>total_amount</th>\n",
       "        </tr>\n",
       "    </thead>\n",
       "    <tbody>\n",
       "        <tr>\n",
       "            <td>1</td>\n",
       "            <td>John Doe</td>\n",
       "            <td>john.doe@example.com</td>\n",
       "            <td>101</td>\n",
       "            <td>1</td>\n",
       "            <td>2022-01-15</td>\n",
       "            <td>150</td>\n",
       "        </tr>\n",
       "        <tr>\n",
       "            <td>2</td>\n",
       "            <td>Jane Smith</td>\n",
       "            <td>jane.smith@example.com</td>\n",
       "            <td>102</td>\n",
       "            <td>2</td>\n",
       "            <td>2022-01-16</td>\n",
       "            <td>200.5</td>\n",
       "        </tr>\n",
       "        <tr>\n",
       "            <td>1</td>\n",
       "            <td>John Doe</td>\n",
       "            <td>john.doe@example.com</td>\n",
       "            <td>103</td>\n",
       "            <td>1</td>\n",
       "            <td>2022-01-17</td>\n",
       "            <td>100.75</td>\n",
       "        </tr>\n",
       "        <tr>\n",
       "            <td>3</td>\n",
       "            <td>Bob Johnson</td>\n",
       "            <td>bob.johnson@example.com</td>\n",
       "            <td>104</td>\n",
       "            <td>3</td>\n",
       "            <td>2022-01-18</td>\n",
       "            <td>300</td>\n",
       "        </tr>\n",
       "    </tbody>\n",
       "</table>"
      ],
      "text/plain": [
       "+-------------+---------------+-------------------------+----------+---------------+------------+--------------+\n",
       "| customer_id | customer_name |          email          | order_id | customer_id_1 | order_date | total_amount |\n",
       "+-------------+---------------+-------------------------+----------+---------------+------------+--------------+\n",
       "|      1      |    John Doe   |   john.doe@example.com  |   101    |       1       | 2022-01-15 |     150      |\n",
       "|      2      |   Jane Smith  |  jane.smith@example.com |   102    |       2       | 2022-01-16 |    200.5     |\n",
       "|      1      |    John Doe   |   john.doe@example.com  |   103    |       1       | 2022-01-17 |    100.75    |\n",
       "|      3      |  Bob Johnson  | bob.johnson@example.com |   104    |       3       | 2022-01-18 |     300      |\n",
       "+-------------+---------------+-------------------------+----------+---------------+------------+--------------+"
      ]
     },
     "execution_count": 4,
     "metadata": {},
     "output_type": "execute_result"
    }
   ],
   "source": [
    "%%sql sqlite://\n",
    "SELECT * FROM customers as c \n",
    "INNER JOIN \n",
    "orders as o \n",
    "ON c.customer_id = o.customer_id ;\n"
   ]
  },
  {
   "cell_type": "code",
   "execution_count": null,
   "metadata": {},
   "outputs": [],
   "source": []
  }
 ],
 "metadata": {
  "kernelspec": {
   "display_name": "base",
   "language": "python",
   "name": "python3"
  },
  "language_info": {
   "codemirror_mode": {
    "name": "ipython",
    "version": 3
   },
   "file_extension": ".py",
   "mimetype": "text/x-python",
   "name": "python",
   "nbconvert_exporter": "python",
   "pygments_lexer": "ipython3",
   "version": "3.11.5"
  }
 },
 "nbformat": 4,
 "nbformat_minor": 2
}
