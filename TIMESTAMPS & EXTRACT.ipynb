{
 "cells": [
  {
   "cell_type": "code",
   "execution_count": 1,
   "metadata": {},
   "outputs": [
    {
     "name": "stdout",
     "output_type": "stream",
     "text": [
      "Note: you may need to restart the kernel to use updated packages.\n"
     ]
    },
    {
     "name": "stderr",
     "output_type": "stream",
     "text": [
      "DEPRECATION: textract 1.6.5 has a non-standard dependency specifier extract-msg<=0.29.*. pip 23.3 will enforce this behaviour change. A possible replacement is to upgrade to a newer version of textract or contact the author to suggest that they release a version with a conforming dependency specifiers. Discussion can be found at https://github.com/pypa/pip/issues/12063\n"
     ]
    }
   ],
   "source": [
    "%pip install jupysql --quiet"
   ]
  },
  {
   "cell_type": "code",
   "execution_count": 2,
   "metadata": {},
   "outputs": [
    {
     "name": "stdout",
     "output_type": "stream",
     "text": [
      "Deploy Dash apps for free on Ploomber Cloud! Learn more: https://ploomber.io/s/signup\n"
     ]
    }
   ],
   "source": [
    "%load_ext sql"
   ]
  },
  {
   "cell_type": "code",
   "execution_count": 3,
   "metadata": {},
   "outputs": [
    {
     "data": {
      "text/html": [
       "<span style=\"None\">Connecting to &#x27;sqlite://&#x27;</span>"
      ],
      "text/plain": [
       "Connecting to 'sqlite://'"
      ]
     },
     "metadata": {},
     "output_type": "display_data"
    },
    {
     "data": {
      "text/html": [
       "<span style=\"color: green\">5 rows affected.</span>"
      ],
      "text/plain": [
       "5 rows affected."
      ]
     },
     "metadata": {},
     "output_type": "display_data"
    },
    {
     "data": {
      "text/html": [
       "<table>\n",
       "    <thead>\n",
       "        <tr>\n",
       "        </tr>\n",
       "    </thead>\n",
       "    <tbody>\n",
       "    </tbody>\n",
       "</table>"
      ],
      "text/plain": [
       "++\n",
       "||\n",
       "++\n",
       "++"
      ]
     },
     "execution_count": 3,
     "metadata": {},
     "output_type": "execute_result"
    }
   ],
   "source": [
    "%%sql sqlite://\n",
    "-- Create the sales table (if not created)\n",
    "CREATE TABLE sales (\n",
    "  id INT PRIMARY KEY,\n",
    "  product_name VARCHAR(255),\n",
    "  sale_timestamp TIMESTAMP,\n",
    "  quantity INT,\n",
    "  amount DECIMAL(10, 2)\n",
    ");\n",
    "\n",
    "-- Insert some sample data\n",
    "INSERT INTO sales (id, product_name, sale_timestamp, quantity, amount)\n",
    "VALUES\n",
    "  (1, 'Product A', '2022-01-01 08:30:00', 10, 500.00),\n",
    "  (2, 'Product B', '2022-01-02 12:45:00', 5, 250.50),\n",
    "  (3, 'Product C', '2022-01-03 10:15:00', 8, 700.75),\n",
    "  (4, 'Product A', '2022-01-04 14:00:00', 12, 600.00),\n",
    "  (5, 'Product B', '2022-01-05 09:45:00', 7, 350.25);\n",
    "\n",
    "\n"
   ]
  },
  {
   "cell_type": "markdown",
   "metadata": {},
   "source": [
    "## Use Extract FUNCTION"
   ]
  },
  {
   "cell_type": "markdown",
   "metadata": {},
   "source": [
    "`The EXTRACT() function extracts a part from a given date value.\n",
    "Syntax: SELECT EXTRACT(MONTH FROM date_field) FROM Table\n",
    "• YEAR\n",
    "• QUARTER\n",
    "• MONTH\n",
    "• WEEK\n",
    "• DAY\n",
    "• HOUR\n",
    "• MINUTE\n",
    "• DOW – day of week\n",
    "• DOY – day of year`"
   ]
  },
  {
   "cell_type": "code",
   "execution_count": 8,
   "metadata": {},
   "outputs": [
    {
     "data": {
      "text/html": [
       "<table>\n",
       "    <thead>\n",
       "        <tr>\n",
       "            <th>id</th>\n",
       "            <th>product_name</th>\n",
       "            <th>sales_day</th>\n",
       "            <th>sales_hour</th>\n",
       "        </tr>\n",
       "    </thead>\n",
       "    <tbody>\n",
       "        <tr>\n",
       "            <td>1</td>\n",
       "            <td>Product A</td>\n",
       "            <td>1</td>\n",
       "            <td>8</td>\n",
       "        </tr>\n",
       "        <tr>\n",
       "            <td>2</td>\n",
       "            <td>Product B</td>\n",
       "            <td>2</td>\n",
       "            <td>12</td>\n",
       "        </tr>\n",
       "        <tr>\n",
       "            <td>3</td>\n",
       "            <td>Product C</td>\n",
       "            <td>3</td>\n",
       "            <td>10</td>\n",
       "        </tr>\n",
       "        <tr>\n",
       "            <td>4</td>\n",
       "            <td>Product A</td>\n",
       "            <td>4</td>\n",
       "            <td>14</td>\n",
       "        </tr>\n",
       "        <tr>\n",
       "            <td>5</td>\n",
       "            <td>Product B</td>\n",
       "            <td>5</td>\n",
       "            <td>9</td>\n",
       "        </tr>\n",
       "    </tbody>\n",
       "</table>"
      ],
      "text/plain": [
       "+----+--------------+-----------+------------+\n",
       "| id | product_name | sales_day | sales_hour |\n",
       "+----+--------------+-----------+------------+\n",
       "| 1  |  Product A   |     1     |     8      |\n",
       "| 2  |  Product B   |     2     |     12     |\n",
       "| 3  |  Product C   |     3     |     10     |\n",
       "| 4  |  Product A   |     4     |     14     |\n",
       "| 5  |  Product B   |     5     |     9      |\n",
       "+----+--------------+-----------+------------+"
      ]
     },
     "execution_count": 8,
     "metadata": {},
     "output_type": "execute_result"
    }
   ],
   "source": [
    "%%sql sqlite://\n",
    "-- Use EXTRACT to get the day and hour from the sale_timestamp\n",
    "SELECT id, product_name,\n",
    "EXTRACT(DAY FROM sale_timestamp) as sales_day,\n",
    "EXTRACT(HOUR FROM sale_timestamp) as sales_hour \n",
    "FROM  sales; \n"
   ]
  },
  {
   "cell_type": "code",
   "execution_count": null,
   "metadata": {},
   "outputs": [],
   "source": []
  }
 ],
 "metadata": {
  "kernelspec": {
   "display_name": "base",
   "language": "python",
   "name": "python3"
  },
  "language_info": {
   "codemirror_mode": {
    "name": "ipython",
    "version": 3
   },
   "file_extension": ".py",
   "mimetype": "text/x-python",
   "name": "python",
   "nbconvert_exporter": "python",
   "pygments_lexer": "ipython3",
   "version": "3.11.5"
  }
 },
 "nbformat": 4,
 "nbformat_minor": 2
}
