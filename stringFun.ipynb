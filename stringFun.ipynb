{
 "cells": [
  {
   "cell_type": "code",
   "execution_count": 2,
   "metadata": {},
   "outputs": [
    {
     "name": "stdout",
     "output_type": "stream",
     "text": [
      "Note: you may need to restart the kernel to use updated packages.\n"
     ]
    }
   ],
   "source": [
    "%pip install jupysql --quiet\n"
   ]
  },
  {
   "cell_type": "code",
   "execution_count": 3,
   "metadata": {},
   "outputs": [],
   "source": [
    "%load_ext sql"
   ]
  },
  {
   "cell_type": "code",
   "execution_count": 4,
   "metadata": {},
   "outputs": [
    {
     "data": {
      "text/html": [
       "<span style=\"None\">Connecting to &#x27;sqlite://&#x27;</span>"
      ],
      "text/plain": [
       "Connecting to 'sqlite://'"
      ]
     },
     "metadata": {},
     "output_type": "display_data"
    },
    {
     "data": {
      "text/html": [
       "<span style=\"color: green\">10 rows affected.</span>"
      ],
      "text/plain": [
       "10 rows affected."
      ]
     },
     "metadata": {},
     "output_type": "display_data"
    },
    {
     "data": {
      "text/html": [
       "<table>\n",
       "    <thead>\n",
       "        <tr>\n",
       "        </tr>\n",
       "    </thead>\n",
       "    <tbody>\n",
       "    </tbody>\n",
       "</table>"
      ],
      "text/plain": [
       "++\n",
       "||\n",
       "++\n",
       "++"
      ]
     },
     "execution_count": 4,
     "metadata": {},
     "output_type": "execute_result"
    }
   ],
   "source": [
    "%%sql sqlite://\n",
    " \n",
    "-- Creating a new table with date values\n",
    "CREATE TABLE person_location (\n",
    "    ID INTEGER PRIMARY KEY,\n",
    "    Name VARCHAR(50),\n",
    "    City VARCHAR(50),\n",
    "    Country VARCHAR(50),\n",
    "    EventDate DATE\n",
    ");\n",
    "\n",
    "-- Inserting sample data with date values\n",
    "INSERT INTO person_location (Name, City, Country, EventDate) VALUES\n",
    "    ('Alice', 'New York', 'USA', '2024-02-27'),\n",
    "    ('Bob', 'San Francisco', 'USA', '2024-03-15'),\n",
    "    ('Charlie', 'Los Angeles', 'USA', '2024-04-02'),\n",
    "    ('David', 'Chicago', 'USA', '2024-05-20'),\n",
    "    ('Eva', 'Seattle', 'USA', '2024-06-10'),\n",
    "    ('Frank', 'Boston', 'USA', '2024-07-01'),\n",
    "    ('Grace', 'Denver', 'USA', '2024-08-15'),\n",
    "    ('Harry', 'Miami', 'USA', '2024-09-05'),\n",
    "    ('Ivy', 'Austin', 'USA', '2024-10-20'),\n",
    "    ('Jack', 'Phoenix', 'USA', '2024-11-12');\n",
    "\n",
    " \n"
   ]
  },
  {
   "cell_type": "code",
   "execution_count": 6,
   "metadata": {},
   "outputs": [
    {
     "data": {
      "text/html": [
       "<table>\n",
       "    <thead>\n",
       "        <tr>\n",
       "            <th>UPPER(Name)</th>\n",
       "        </tr>\n",
       "    </thead>\n",
       "    <tbody>\n",
       "        <tr>\n",
       "            <td>ALICE</td>\n",
       "        </tr>\n",
       "        <tr>\n",
       "            <td>BOB</td>\n",
       "        </tr>\n",
       "        <tr>\n",
       "            <td>CHARLIE</td>\n",
       "        </tr>\n",
       "        <tr>\n",
       "            <td>DAVID</td>\n",
       "        </tr>\n",
       "        <tr>\n",
       "            <td>EVA</td>\n",
       "        </tr>\n",
       "        <tr>\n",
       "            <td>FRANK</td>\n",
       "        </tr>\n",
       "        <tr>\n",
       "            <td>GRACE</td>\n",
       "        </tr>\n",
       "        <tr>\n",
       "            <td>HARRY</td>\n",
       "        </tr>\n",
       "        <tr>\n",
       "            <td>IVY</td>\n",
       "        </tr>\n",
       "        <tr>\n",
       "            <td>JACK</td>\n",
       "        </tr>\n",
       "    </tbody>\n",
       "</table>\n",
       "<span style=\"font-style:italic;text-align:center;\">Truncated to <a href=\"https://jupysql.ploomber.io/en/latest/api/configuration.html#displaylimit\">displaylimit</a> of 10.</span>"
      ],
      "text/plain": [
       "+-------------+\n",
       "| UPPER(Name) |\n",
       "+-------------+\n",
       "|    ALICE    |\n",
       "|     BOB     |\n",
       "|   CHARLIE   |\n",
       "|    DAVID    |\n",
       "|     EVA     |\n",
       "|    FRANK    |\n",
       "|    GRACE    |\n",
       "|    HARRY    |\n",
       "|     IVY     |\n",
       "|     JACK    |\n",
       "+-------------+\n",
       "Truncated to displaylimit of 10."
      ]
     },
     "execution_count": 6,
     "metadata": {},
     "output_type": "execute_result"
    }
   ],
   "source": [
    "%%sql sqlite://\n",
    "SELECT UPPER(Name) from person_location;\n"
   ]
  },
  {
   "cell_type": "code",
   "execution_count": 8,
   "metadata": {},
   "outputs": [
    {
     "data": {
      "text/html": [
       "<table>\n",
       "    <thead>\n",
       "        <tr>\n",
       "            <th>lower(Name)</th>\n",
       "        </tr>\n",
       "    </thead>\n",
       "    <tbody>\n",
       "        <tr>\n",
       "            <td>alice</td>\n",
       "        </tr>\n",
       "        <tr>\n",
       "            <td>bob</td>\n",
       "        </tr>\n",
       "        <tr>\n",
       "            <td>charlie</td>\n",
       "        </tr>\n",
       "        <tr>\n",
       "            <td>david</td>\n",
       "        </tr>\n",
       "        <tr>\n",
       "            <td>eva</td>\n",
       "        </tr>\n",
       "        <tr>\n",
       "            <td>frank</td>\n",
       "        </tr>\n",
       "        <tr>\n",
       "            <td>grace</td>\n",
       "        </tr>\n",
       "        <tr>\n",
       "            <td>harry</td>\n",
       "        </tr>\n",
       "        <tr>\n",
       "            <td>ivy</td>\n",
       "        </tr>\n",
       "        <tr>\n",
       "            <td>jack</td>\n",
       "        </tr>\n",
       "    </tbody>\n",
       "</table>\n",
       "<span style=\"font-style:italic;text-align:center;\">Truncated to <a href=\"https://jupysql.ploomber.io/en/latest/api/configuration.html#displaylimit\">displaylimit</a> of 10.</span>"
      ],
      "text/plain": [
       "+-------------+\n",
       "| lower(Name) |\n",
       "+-------------+\n",
       "|    alice    |\n",
       "|     bob     |\n",
       "|   charlie   |\n",
       "|    david    |\n",
       "|     eva     |\n",
       "|    frank    |\n",
       "|    grace    |\n",
       "|    harry    |\n",
       "|     ivy     |\n",
       "|     jack    |\n",
       "+-------------+\n",
       "Truncated to displaylimit of 10."
      ]
     },
     "execution_count": 8,
     "metadata": {},
     "output_type": "execute_result"
    }
   ],
   "source": [
    "%%sql sqlite://\n",
    "SELECT lower(Name) from person_location;"
   ]
  },
  {
   "cell_type": "code",
   "execution_count": 9,
   "metadata": {},
   "outputs": [
    {
     "data": {
      "text/html": [
       "<table>\n",
       "    <thead>\n",
       "        <tr>\n",
       "            <th>length(name)</th>\n",
       "        </tr>\n",
       "    </thead>\n",
       "    <tbody>\n",
       "        <tr>\n",
       "            <td>5</td>\n",
       "        </tr>\n",
       "        <tr>\n",
       "            <td>3</td>\n",
       "        </tr>\n",
       "        <tr>\n",
       "            <td>7</td>\n",
       "        </tr>\n",
       "        <tr>\n",
       "            <td>5</td>\n",
       "        </tr>\n",
       "        <tr>\n",
       "            <td>3</td>\n",
       "        </tr>\n",
       "        <tr>\n",
       "            <td>5</td>\n",
       "        </tr>\n",
       "        <tr>\n",
       "            <td>5</td>\n",
       "        </tr>\n",
       "        <tr>\n",
       "            <td>5</td>\n",
       "        </tr>\n",
       "        <tr>\n",
       "            <td>3</td>\n",
       "        </tr>\n",
       "        <tr>\n",
       "            <td>4</td>\n",
       "        </tr>\n",
       "    </tbody>\n",
       "</table>\n",
       "<span style=\"font-style:italic;text-align:center;\">Truncated to <a href=\"https://jupysql.ploomber.io/en/latest/api/configuration.html#displaylimit\">displaylimit</a> of 10.</span>"
      ],
      "text/plain": [
       "+--------------+\n",
       "| length(name) |\n",
       "+--------------+\n",
       "|      5       |\n",
       "|      3       |\n",
       "|      7       |\n",
       "|      5       |\n",
       "|      3       |\n",
       "|      5       |\n",
       "|      5       |\n",
       "|      5       |\n",
       "|      3       |\n",
       "|      4       |\n",
       "+--------------+\n",
       "Truncated to displaylimit of 10."
      ]
     },
     "execution_count": 9,
     "metadata": {},
     "output_type": "execute_result"
    }
   ],
   "source": [
    "%%sql sqlite://\n",
    "SELECT length(name) from person_location;"
   ]
  },
  {
   "cell_type": "code",
   "execution_count": 14,
   "metadata": {},
   "outputs": [
    {
     "data": {
      "text/html": [
       "<table>\n",
       "    <thead>\n",
       "        <tr>\n",
       "            <th>City</th>\n",
       "            <th>subPart</th>\n",
       "        </tr>\n",
       "    </thead>\n",
       "    <tbody>\n",
       "        <tr>\n",
       "            <td>New York</td>\n",
       "            <td>Ne</td>\n",
       "        </tr>\n",
       "        <tr>\n",
       "            <td>San Francisco</td>\n",
       "            <td>Sa</td>\n",
       "        </tr>\n",
       "        <tr>\n",
       "            <td>Los Angeles</td>\n",
       "            <td>Lo</td>\n",
       "        </tr>\n",
       "        <tr>\n",
       "            <td>Chicago</td>\n",
       "            <td>Ch</td>\n",
       "        </tr>\n",
       "        <tr>\n",
       "            <td>Seattle</td>\n",
       "            <td>Se</td>\n",
       "        </tr>\n",
       "        <tr>\n",
       "            <td>Boston</td>\n",
       "            <td>Bo</td>\n",
       "        </tr>\n",
       "        <tr>\n",
       "            <td>Denver</td>\n",
       "            <td>De</td>\n",
       "        </tr>\n",
       "        <tr>\n",
       "            <td>Miami</td>\n",
       "            <td>Mi</td>\n",
       "        </tr>\n",
       "        <tr>\n",
       "            <td>Austin</td>\n",
       "            <td>Au</td>\n",
       "        </tr>\n",
       "        <tr>\n",
       "            <td>Phoenix</td>\n",
       "            <td>Ph</td>\n",
       "        </tr>\n",
       "    </tbody>\n",
       "</table>\n",
       "<span style=\"font-style:italic;text-align:center;\">Truncated to <a href=\"https://jupysql.ploomber.io/en/latest/api/configuration.html#displaylimit\">displaylimit</a> of 10.</span>"
      ],
      "text/plain": [
       "+---------------+---------+\n",
       "|      City     | subPart |\n",
       "+---------------+---------+\n",
       "|    New York   |    Ne   |\n",
       "| San Francisco |    Sa   |\n",
       "|  Los Angeles  |    Lo   |\n",
       "|    Chicago    |    Ch   |\n",
       "|    Seattle    |    Se   |\n",
       "|     Boston    |    Bo   |\n",
       "|     Denver    |    De   |\n",
       "|     Miami     |    Mi   |\n",
       "|     Austin    |    Au   |\n",
       "|    Phoenix    |    Ph   |\n",
       "+---------------+---------+\n",
       "Truncated to displaylimit of 10."
      ]
     },
     "execution_count": 14,
     "metadata": {},
     "output_type": "execute_result"
    }
   ],
   "source": [
    "%%sql sqlite://\n",
    "SELECT City , SUBSTRING(City,1,2) as subPart FROM person_location;"
   ]
  },
  {
   "cell_type": "code",
   "execution_count": 20,
   "metadata": {},
   "outputs": [
    {
     "data": {
      "text/html": [
       "<table>\n",
       "    <thead>\n",
       "        <tr>\n",
       "            <th>EventDate</th>\n",
       "            <th>FormattedDate</th>\n",
       "        </tr>\n",
       "    </thead>\n",
       "    <tbody>\n",
       "        <tr>\n",
       "            <td>2024-02-27</td>\n",
       "            <td>27/02/2024</td>\n",
       "        </tr>\n",
       "        <tr>\n",
       "            <td>2024-03-15</td>\n",
       "            <td>15/03/2024</td>\n",
       "        </tr>\n",
       "        <tr>\n",
       "            <td>2024-04-02</td>\n",
       "            <td>02/04/2024</td>\n",
       "        </tr>\n",
       "        <tr>\n",
       "            <td>2024-05-20</td>\n",
       "            <td>20/05/2024</td>\n",
       "        </tr>\n",
       "        <tr>\n",
       "            <td>2024-06-10</td>\n",
       "            <td>10/06/2024</td>\n",
       "        </tr>\n",
       "        <tr>\n",
       "            <td>2024-07-01</td>\n",
       "            <td>01/07/2024</td>\n",
       "        </tr>\n",
       "        <tr>\n",
       "            <td>2024-08-15</td>\n",
       "            <td>15/08/2024</td>\n",
       "        </tr>\n",
       "        <tr>\n",
       "            <td>2024-09-05</td>\n",
       "            <td>05/09/2024</td>\n",
       "        </tr>\n",
       "        <tr>\n",
       "            <td>2024-10-20</td>\n",
       "            <td>20/10/2024</td>\n",
       "        </tr>\n",
       "        <tr>\n",
       "            <td>2024-11-12</td>\n",
       "            <td>12/11/2024</td>\n",
       "        </tr>\n",
       "    </tbody>\n",
       "</table>\n",
       "<span style=\"font-style:italic;text-align:center;\">Truncated to <a href=\"https://jupysql.ploomber.io/en/latest/api/configuration.html#displaylimit\">displaylimit</a> of 10.</span>"
      ],
      "text/plain": [
       "+------------+---------------+\n",
       "| EventDate  | FormattedDate |\n",
       "+------------+---------------+\n",
       "| 2024-02-27 |   27/02/2024  |\n",
       "| 2024-03-15 |   15/03/2024  |\n",
       "| 2024-04-02 |   02/04/2024  |\n",
       "| 2024-05-20 |   20/05/2024  |\n",
       "| 2024-06-10 |   10/06/2024  |\n",
       "| 2024-07-01 |   01/07/2024  |\n",
       "| 2024-08-15 |   15/08/2024  |\n",
       "| 2024-09-05 |   05/09/2024  |\n",
       "| 2024-10-20 |   20/10/2024  |\n",
       "| 2024-11-12 |   12/11/2024  |\n",
       "+------------+---------------+\n",
       "Truncated to displaylimit of 10."
      ]
     },
     "execution_count": 20,
     "metadata": {},
     "output_type": "execute_result"
    }
   ],
   "source": [
    "%%sql sqlite://\n",
    "SELECT EventDate , strftime('%d/%m/%Y' , EventDate) as FormattedDate from person_location;\n",
    " "
   ]
  },
  {
   "cell_type": "code",
   "execution_count": 23,
   "metadata": {},
   "outputs": [
    {
     "data": {
      "text/html": [
       "<table>\n",
       "    <thead>\n",
       "        <tr>\n",
       "            <th>Person_with_location</th>\n",
       "        </tr>\n",
       "    </thead>\n",
       "    <tbody>\n",
       "        <tr>\n",
       "            <td>Alice,New York</td>\n",
       "        </tr>\n",
       "        <tr>\n",
       "            <td>Bob,San Francisco</td>\n",
       "        </tr>\n",
       "        <tr>\n",
       "            <td>Charlie,Los Angeles</td>\n",
       "        </tr>\n",
       "        <tr>\n",
       "            <td>David,Chicago</td>\n",
       "        </tr>\n",
       "        <tr>\n",
       "            <td>Eva,Seattle</td>\n",
       "        </tr>\n",
       "        <tr>\n",
       "            <td>Frank,Boston</td>\n",
       "        </tr>\n",
       "        <tr>\n",
       "            <td>Grace,Denver</td>\n",
       "        </tr>\n",
       "        <tr>\n",
       "            <td>Harry,Miami</td>\n",
       "        </tr>\n",
       "        <tr>\n",
       "            <td>Ivy,Austin</td>\n",
       "        </tr>\n",
       "        <tr>\n",
       "            <td>Jack,Phoenix</td>\n",
       "        </tr>\n",
       "    </tbody>\n",
       "</table>\n",
       "<span style=\"font-style:italic;text-align:center;\">Truncated to <a href=\"https://jupysql.ploomber.io/en/latest/api/configuration.html#displaylimit\">displaylimit</a> of 10.</span>"
      ],
      "text/plain": [
       "+----------------------+\n",
       "| Person_with_location |\n",
       "+----------------------+\n",
       "|    Alice,New York    |\n",
       "|  Bob,San Francisco   |\n",
       "| Charlie,Los Angeles  |\n",
       "|    David,Chicago     |\n",
       "|     Eva,Seattle      |\n",
       "|     Frank,Boston     |\n",
       "|     Grace,Denver     |\n",
       "|     Harry,Miami      |\n",
       "|      Ivy,Austin      |\n",
       "|     Jack,Phoenix     |\n",
       "+----------------------+\n",
       "Truncated to displaylimit of 10."
      ]
     },
     "execution_count": 23,
     "metadata": {},
     "output_type": "execute_result"
    }
   ],
   "source": [
    "%%sql sqlite://\n",
    "#NOTE -  this one not supported -> SELECT CONCAT(Name ,',',City) as Person_with_location from person_location;\n",
    "SELECT Name || ',' || City AS Person_with_location FROM person_location;\n"
   ]
  },
  {
   "cell_type": "code",
   "execution_count": 24,
   "metadata": {},
   "outputs": [
    {
     "data": {
      "text/html": [
       "<table>\n",
       "    <thead>\n",
       "        <tr>\n",
       "            <th>REPLACE (Country,'USA' , 'IND')</th>\n",
       "        </tr>\n",
       "    </thead>\n",
       "    <tbody>\n",
       "        <tr>\n",
       "            <td>IND</td>\n",
       "        </tr>\n",
       "        <tr>\n",
       "            <td>IND</td>\n",
       "        </tr>\n",
       "        <tr>\n",
       "            <td>IND</td>\n",
       "        </tr>\n",
       "        <tr>\n",
       "            <td>IND</td>\n",
       "        </tr>\n",
       "        <tr>\n",
       "            <td>IND</td>\n",
       "        </tr>\n",
       "        <tr>\n",
       "            <td>IND</td>\n",
       "        </tr>\n",
       "        <tr>\n",
       "            <td>IND</td>\n",
       "        </tr>\n",
       "        <tr>\n",
       "            <td>IND</td>\n",
       "        </tr>\n",
       "        <tr>\n",
       "            <td>IND</td>\n",
       "        </tr>\n",
       "        <tr>\n",
       "            <td>IND</td>\n",
       "        </tr>\n",
       "    </tbody>\n",
       "</table>\n",
       "<span style=\"font-style:italic;text-align:center;\">Truncated to <a href=\"https://jupysql.ploomber.io/en/latest/api/configuration.html#displaylimit\">displaylimit</a> of 10.</span>"
      ],
      "text/plain": [
       "+---------------------------------+\n",
       "| REPLACE (Country,'USA' , 'IND') |\n",
       "+---------------------------------+\n",
       "|               IND               |\n",
       "|               IND               |\n",
       "|               IND               |\n",
       "|               IND               |\n",
       "|               IND               |\n",
       "|               IND               |\n",
       "|               IND               |\n",
       "|               IND               |\n",
       "|               IND               |\n",
       "|               IND               |\n",
       "+---------------------------------+\n",
       "Truncated to displaylimit of 10."
      ]
     },
     "execution_count": 24,
     "metadata": {},
     "output_type": "execute_result"
    }
   ],
   "source": [
    "%%sql sqlite://\n",
    "SELECT REPLACE (Country,'USA' , 'IND') FROM person_location;"
   ]
  },
  {
   "cell_type": "code",
   "execution_count": 26,
   "metadata": {},
   "outputs": [
    {
     "name": "stderr",
     "output_type": "stream",
     "text": [
      "RuntimeError: If using snippets, you may pass the --with argument explicitly.\n",
      "For more details please refer: https://jupysql.ploomber.io/en/latest/compose.html#with-argument\n",
      "\n",
      "\n",
      "Original error message from DB driver:\n",
      "(sqlite3.OperationalError) near \"' '\": syntax error\n",
      "[SQL: SELECT TRIM(BOTH ' ' FROM City) FROM person_location;]\n",
      "(Background on this error at: https://sqlalche.me/e/20/e3q8)\n",
      "\n",
      "If you need help solving this issue, send us a message: https://ploomber.io/community\n"
     ]
    }
   ],
   "source": [
    "%%sql sqlite://\n",
    "#NOTE - Not supported -> SELECT TRIM(BOTH ' ' FROM City) FROM person_location;\n"
   ]
  },
  {
   "cell_type": "code",
   "execution_count": null,
   "metadata": {},
   "outputs": [],
   "source": []
  }
 ],
 "metadata": {
  "kernelspec": {
   "display_name": "Python 3",
   "language": "python",
   "name": "python3"
  },
  "language_info": {
   "codemirror_mode": {
    "name": "ipython",
    "version": 3
   },
   "file_extension": ".py",
   "mimetype": "text/x-python",
   "name": "python",
   "nbconvert_exporter": "python",
   "pygments_lexer": "ipython3",
   "version": "3.10.5"
  }
 },
 "nbformat": 4,
 "nbformat_minor": 2
}
