{
 "cells": [
  {
   "cell_type": "markdown",
   "metadata": {},
   "source": [
    "Operators In SQL\n",
    "\n",
    "The SQL reserved words and characters are called operators, which are used with a WHERE clause in a SQL query.\n",
    "\n",
    "Most Used Operators\n",
    "\n",
    "1. **Arithmetic Operators**: Perform arithmetic operations on numeric values.\n",
    "   - Example: Addition (+), Subtraction (-), Multiplication (*), Division (/), Modulus (%)\n",
    "\n",
    "2. **Comparison Operators**: Compare two different data in a SQL table.\n",
    "   - Example: Equal (=), Not Equal (!=), Greater Than (>), Greater Than Equals to (>=)\n",
    "\n",
    "3. **Logical Operators**: Perform Boolean operations.\n",
    "   - Example: ALL, IN, BETWEEN, LIKE, AND, OR, NOT, ANY\n",
    "\n",
    "4. **Bitwise Operators**: Perform bit operations on Integer values.\n",
    "   - Example: Bitwise AND (&), Bitwise OR (|)\n",
    "\n",
    "These operators are crucial for constructing effective SQL queries and performing various operations on your database.\n"
   ]
  },
  {
   "cell_type": "markdown",
   "metadata": {},
   "source": [
    "---------------------------------------------------------------------------------------------------------------------------------------------"
   ]
  },
  {
   "cell_type": "code",
   "execution_count": 1,
   "metadata": {},
   "outputs": [
    {
     "name": "stdout",
     "output_type": "stream",
     "text": [
      "Note: you may need to restart the kernel to use updated packages.\n"
     ]
    }
   ],
   "source": [
    "%pip install jupysql --quiet\n",
    "\n"
   ]
  },
  {
   "cell_type": "code",
   "execution_count": 2,
   "metadata": {},
   "outputs": [],
   "source": [
    "%load_ext sql"
   ]
  },
  {
   "cell_type": "markdown",
   "metadata": {},
   "source": [
    "i. createing Table"
   ]
  },
  {
   "cell_type": "code",
   "execution_count": 5,
   "metadata": {},
   "outputs": [
    {
     "data": {
      "text/html": [
       "<table>\n",
       "    <thead>\n",
       "        <tr>\n",
       "        </tr>\n",
       "    </thead>\n",
       "    <tbody>\n",
       "    </tbody>\n",
       "</table>"
      ],
      "text/plain": [
       "++\n",
       "||\n",
       "++\n",
       "++"
      ]
     },
     "execution_count": 5,
     "metadata": {},
     "output_type": "execute_result"
    }
   ],
   "source": [
    "%%sql sqlite://\n",
    "CREATE TABLE emp (\n",
    "    ID INT PRIMARY KEY,\n",
    "    Name VARCHAR(50),\n",
    "    Age INT,\n",
    "    Salary DECIMAL(10, 2),\n",
    "    Zip_Code VARCHAR(10)\n",
    ");\n",
    "\n",
    "\n",
    "%%sql sqlite:// \n",
    "INSERT INTO emp (ID, Name, Age, Salary, Zip_Code)\n",
    "VALUES\n",
    "    (4, 'Alice Johnson', 27, 55000.25, '11111'),\n",
    "    (5, 'Charlie Brown', 40, 70000.00, '22222'),\n",
    "    (6, 'Eva Williams', 32, 60000.50, '33333'),\n",
    "    (7, 'David Miller', 45, 80000.75, '44444'),\n",
    "    (8, 'Grace Davis', 29, 52000.90, '55555'),\n",
    "    (9, 'Franklin Adams', 38, 72000.60, '66666'),\n",
    "    (10, 'Helen Turner', 33, 65000.80, '77777'),\n",
    "    (11, 'George Harris', 28, 54000.45, '88888'),\n",
    "    (12, 'Ivy Clark', 36, 68000.30, '99999'),\n",
    "    (13, 'Jackie Wilson', 31, 59000.70, '00000');\n"
   ]
  },
  {
   "cell_type": "code",
   "execution_count": 58,
   "metadata": {},
   "outputs": [
    {
     "data": {
      "text/html": [
       "<span style=\"color: green\">3 rows affected.</span>"
      ],
      "text/plain": [
       "3 rows affected."
      ]
     },
     "metadata": {},
     "output_type": "display_data"
    },
    {
     "data": {
      "text/html": [
       "<table>\n",
       "    <thead>\n",
       "        <tr>\n",
       "        </tr>\n",
       "    </thead>\n",
       "    <tbody>\n",
       "    </tbody>\n",
       "</table>"
      ],
      "text/plain": [
       "++\n",
       "||\n",
       "++\n",
       "++"
      ]
     },
     "execution_count": 58,
     "metadata": {},
     "output_type": "execute_result"
    }
   ],
   "source": [
    "%%sql sqlite://\n",
    "CREATE TABLE projects (\n",
    "    project_id INT PRIMARY KEY,\n",
    "    project_name VARCHAR(100),\n",
    "    project_budget INT\n",
    ");\n",
    "\n",
    "INSERT INTO projects VALUES\n",
    "(101, 'Project A', 50000),\n",
    "(102, 'Project B', 80000),\n",
    "(103, 'Project C', 100000);\n"
   ]
  },
  {
   "cell_type": "markdown",
   "metadata": {},
   "source": [
    "## i. Airthmectic operation"
   ]
  },
  {
   "cell_type": "code",
   "execution_count": 12,
   "metadata": {},
   "outputs": [
    {
     "data": {
      "text/html": [
       "<table>\n",
       "    <thead>\n",
       "        <tr>\n",
       "            <th>Name</th>\n",
       "            <th>Age</th>\n",
       "            <th>Salary</th>\n",
       "            <th>increase_sal</th>\n",
       "            <th>Monthly_sal</th>\n",
       "            <th>Ten_percentage_of_sal</th>\n",
       "        </tr>\n",
       "    </thead>\n",
       "    <tbody>\n",
       "        <tr>\n",
       "            <td>Alice Johnson</td>\n",
       "            <td>27</td>\n",
       "            <td>55000.25</td>\n",
       "            <td>55500.25</td>\n",
       "            <td>4583.354166666667</td>\n",
       "            <td>5500.025000000001</td>\n",
       "        </tr>\n",
       "        <tr>\n",
       "            <td>Charlie Brown</td>\n",
       "            <td>40</td>\n",
       "            <td>70000</td>\n",
       "            <td>70500</td>\n",
       "            <td>5833</td>\n",
       "            <td>7000.0</td>\n",
       "        </tr>\n",
       "        <tr>\n",
       "            <td>Eva Williams</td>\n",
       "            <td>32</td>\n",
       "            <td>60000.5</td>\n",
       "            <td>60500.5</td>\n",
       "            <td>5000.041666666667</td>\n",
       "            <td>6000.05</td>\n",
       "        </tr>\n",
       "        <tr>\n",
       "            <td>David Miller</td>\n",
       "            <td>45</td>\n",
       "            <td>80000.75</td>\n",
       "            <td>80500.75</td>\n",
       "            <td>6666.729166666667</td>\n",
       "            <td>8000.075000000001</td>\n",
       "        </tr>\n",
       "        <tr>\n",
       "            <td>Grace Davis</td>\n",
       "            <td>29</td>\n",
       "            <td>52000.9</td>\n",
       "            <td>52500.9</td>\n",
       "            <td>4333.408333333334</td>\n",
       "            <td>5200.09</td>\n",
       "        </tr>\n",
       "        <tr>\n",
       "            <td>Franklin Adams</td>\n",
       "            <td>38</td>\n",
       "            <td>72000.6</td>\n",
       "            <td>72500.6</td>\n",
       "            <td>6000.05</td>\n",
       "            <td>7200.060000000001</td>\n",
       "        </tr>\n",
       "        <tr>\n",
       "            <td>Helen Turner</td>\n",
       "            <td>33</td>\n",
       "            <td>65000.8</td>\n",
       "            <td>65500.8</td>\n",
       "            <td>5416.733333333334</td>\n",
       "            <td>6500.080000000001</td>\n",
       "        </tr>\n",
       "        <tr>\n",
       "            <td>George Harris</td>\n",
       "            <td>28</td>\n",
       "            <td>54000.45</td>\n",
       "            <td>54500.45</td>\n",
       "            <td>4500.037499999999</td>\n",
       "            <td>5400.045</td>\n",
       "        </tr>\n",
       "        <tr>\n",
       "            <td>Ivy Clark</td>\n",
       "            <td>36</td>\n",
       "            <td>68000.3</td>\n",
       "            <td>68500.3</td>\n",
       "            <td>5666.691666666667</td>\n",
       "            <td>6800.030000000001</td>\n",
       "        </tr>\n",
       "        <tr>\n",
       "            <td>Jackie Wilson</td>\n",
       "            <td>31</td>\n",
       "            <td>59000.7</td>\n",
       "            <td>59500.7</td>\n",
       "            <td>4916.724999999999</td>\n",
       "            <td>5900.07</td>\n",
       "        </tr>\n",
       "    </tbody>\n",
       "</table>\n",
       "<span style=\"font-style:italic;text-align:center;\">Truncated to <a href=\"https://jupysql.ploomber.io/en/latest/api/configuration.html#displaylimit\">displaylimit</a> of 10.</span>"
      ],
      "text/plain": [
       "+----------------+-----+----------+--------------+-------------------+-----------------------+\n",
       "|      Name      | Age |  Salary  | increase_sal |    Monthly_sal    | Ten_percentage_of_sal |\n",
       "+----------------+-----+----------+--------------+-------------------+-----------------------+\n",
       "| Alice Johnson  |  27 | 55000.25 |   55500.25   | 4583.354166666667 |   5500.025000000001   |\n",
       "| Charlie Brown  |  40 |  70000   |    70500     |        5833       |         7000.0        |\n",
       "|  Eva Williams  |  32 | 60000.5  |   60500.5    | 5000.041666666667 |        6000.05        |\n",
       "|  David Miller  |  45 | 80000.75 |   80500.75   | 6666.729166666667 |   8000.075000000001   |\n",
       "|  Grace Davis   |  29 | 52000.9  |   52500.9    | 4333.408333333334 |        5200.09        |\n",
       "| Franklin Adams |  38 | 72000.6  |   72500.6    |      6000.05      |   7200.060000000001   |\n",
       "|  Helen Turner  |  33 | 65000.8  |   65500.8    | 5416.733333333334 |   6500.080000000001   |\n",
       "| George Harris  |  28 | 54000.45 |   54500.45   | 4500.037499999999 |        5400.045       |\n",
       "|   Ivy Clark    |  36 | 68000.3  |   68500.3    | 5666.691666666667 |   6800.030000000001   |\n",
       "| Jackie Wilson  |  31 | 59000.7  |   59500.7    | 4916.724999999999 |        5900.07        |\n",
       "+----------------+-----+----------+--------------+-------------------+-----------------------+\n",
       "Truncated to displaylimit of 10."
      ]
     },
     "execution_count": 12,
     "metadata": {},
     "output_type": "execute_result"
    }
   ],
   "source": [
    "%%sql sqlite:// \n",
    "SELECT Name , age , salary ,\n",
    "salary + 500 as increase_sal,\n",
    "salary/12 as Monthly_sal,\n",
    "salary * 0.1 as Ten_percentage_of_sal\n",
    "from emp; "
   ]
  },
  {
   "cell_type": "markdown",
   "metadata": {},
   "source": [
    "## ii. comparison operations with CASE"
   ]
  },
  {
   "cell_type": "code",
   "execution_count": 18,
   "metadata": {},
   "outputs": [
    {
     "data": {
      "text/html": [
       "<table>\n",
       "    <thead>\n",
       "        <tr>\n",
       "            <th>ID</th>\n",
       "            <th>Name</th>\n",
       "            <th>Age</th>\n",
       "            <th>Salary</th>\n",
       "            <th>Salary_Categorey</th>\n",
       "        </tr>\n",
       "    </thead>\n",
       "    <tbody>\n",
       "        <tr>\n",
       "            <td>4</td>\n",
       "            <td>Alice Johnson</td>\n",
       "            <td>27</td>\n",
       "            <td>55000.25</td>\n",
       "            <td>High sal</td>\n",
       "        </tr>\n",
       "        <tr>\n",
       "            <td>5</td>\n",
       "            <td>Charlie Brown</td>\n",
       "            <td>40</td>\n",
       "            <td>70000</td>\n",
       "            <td>High sal</td>\n",
       "        </tr>\n",
       "        <tr>\n",
       "            <td>6</td>\n",
       "            <td>Eva Williams</td>\n",
       "            <td>32</td>\n",
       "            <td>60000.5</td>\n",
       "            <td>High sal</td>\n",
       "        </tr>\n",
       "        <tr>\n",
       "            <td>7</td>\n",
       "            <td>David Miller</td>\n",
       "            <td>45</td>\n",
       "            <td>80000.75</td>\n",
       "            <td>High sal</td>\n",
       "        </tr>\n",
       "        <tr>\n",
       "            <td>8</td>\n",
       "            <td>Grace Davis</td>\n",
       "            <td>29</td>\n",
       "            <td>52000.9</td>\n",
       "            <td>LOW sal</td>\n",
       "        </tr>\n",
       "        <tr>\n",
       "            <td>9</td>\n",
       "            <td>Franklin Adams</td>\n",
       "            <td>38</td>\n",
       "            <td>72000.6</td>\n",
       "            <td>High sal</td>\n",
       "        </tr>\n",
       "        <tr>\n",
       "            <td>10</td>\n",
       "            <td>Helen Turner</td>\n",
       "            <td>33</td>\n",
       "            <td>65000.8</td>\n",
       "            <td>High sal</td>\n",
       "        </tr>\n",
       "        <tr>\n",
       "            <td>11</td>\n",
       "            <td>George Harris</td>\n",
       "            <td>28</td>\n",
       "            <td>54000.45</td>\n",
       "            <td>LOW sal</td>\n",
       "        </tr>\n",
       "        <tr>\n",
       "            <td>12</td>\n",
       "            <td>Ivy Clark</td>\n",
       "            <td>36</td>\n",
       "            <td>68000.3</td>\n",
       "            <td>High sal</td>\n",
       "        </tr>\n",
       "        <tr>\n",
       "            <td>13</td>\n",
       "            <td>Jackie Wilson</td>\n",
       "            <td>31</td>\n",
       "            <td>59000.7</td>\n",
       "            <td>High sal</td>\n",
       "        </tr>\n",
       "    </tbody>\n",
       "</table>\n",
       "<span style=\"font-style:italic;text-align:center;\">Truncated to <a href=\"https://jupysql.ploomber.io/en/latest/api/configuration.html#displaylimit\">displaylimit</a> of 10.</span>"
      ],
      "text/plain": [
       "+----+----------------+-----+----------+------------------+\n",
       "| ID |      Name      | Age |  Salary  | Salary_Categorey |\n",
       "+----+----------------+-----+----------+------------------+\n",
       "| 4  | Alice Johnson  |  27 | 55000.25 |     High sal     |\n",
       "| 5  | Charlie Brown  |  40 |  70000   |     High sal     |\n",
       "| 6  |  Eva Williams  |  32 | 60000.5  |     High sal     |\n",
       "| 7  |  David Miller  |  45 | 80000.75 |     High sal     |\n",
       "| 8  |  Grace Davis   |  29 | 52000.9  |     LOW sal      |\n",
       "| 9  | Franklin Adams |  38 | 72000.6  |     High sal     |\n",
       "| 10 |  Helen Turner  |  33 | 65000.8  |     High sal     |\n",
       "| 11 | George Harris  |  28 | 54000.45 |     LOW sal      |\n",
       "| 12 |   Ivy Clark    |  36 | 68000.3  |     High sal     |\n",
       "| 13 | Jackie Wilson  |  31 | 59000.7  |     High sal     |\n",
       "+----+----------------+-----+----------+------------------+\n",
       "Truncated to displaylimit of 10."
      ]
     },
     "execution_count": 18,
     "metadata": {},
     "output_type": "execute_result"
    }
   ],
   "source": [
    "%%sql sqlite:// \n",
    "SELECT ID , Name , Age , Salary ,\n",
    "CASE \n",
    "    WHEN Age = 25 THEN 'Age is 25'\n",
    "    WHEN Salary > 55000 THEN 'High sal'\n",
    "    WHEN Salary < 60000 THEN 'LOW sal'\n",
    "ELSE 'OTHER'\n",
    "END AS Salary_Categorey\n",
    "from emp\n"
   ]
  },
  {
   "cell_type": "markdown",
   "metadata": {},
   "source": [
    "## iii.  logical operators:"
   ]
  },
  {
   "cell_type": "code",
   "execution_count": 23,
   "metadata": {},
   "outputs": [
    {
     "data": {
      "text/html": [
       "<table>\n",
       "    <thead>\n",
       "        <tr>\n",
       "            <th>Name</th>\n",
       "            <th>Age</th>\n",
       "            <th>Salary</th>\n",
       "            <th>logical_opereator_result</th>\n",
       "        </tr>\n",
       "    </thead>\n",
       "    <tbody>\n",
       "        <tr>\n",
       "            <td>Alice Johnson</td>\n",
       "            <td>27</td>\n",
       "            <td>55000.25</td>\n",
       "            <td>salary is low than 500k and age between 30 and 40</td>\n",
       "        </tr>\n",
       "        <tr>\n",
       "            <td>Charlie Brown</td>\n",
       "            <td>40</td>\n",
       "            <td>70000</td>\n",
       "            <td>salary is low than 500k and age between 30 and 40</td>\n",
       "        </tr>\n",
       "        <tr>\n",
       "            <td>Eva Williams</td>\n",
       "            <td>32</td>\n",
       "            <td>60000.5</td>\n",
       "            <td>salary is low than 500k and age between 30 and 40</td>\n",
       "        </tr>\n",
       "        <tr>\n",
       "            <td>David Miller</td>\n",
       "            <td>45</td>\n",
       "            <td>80000.75</td>\n",
       "            <td>salary is low than 500k and age between 30 and 40</td>\n",
       "        </tr>\n",
       "        <tr>\n",
       "            <td>Grace Davis</td>\n",
       "            <td>29</td>\n",
       "            <td>52000.9</td>\n",
       "            <td>salary is low than 500k and age between 30 and 40</td>\n",
       "        </tr>\n",
       "        <tr>\n",
       "            <td>Franklin Adams</td>\n",
       "            <td>38</td>\n",
       "            <td>72000.6</td>\n",
       "            <td>salary is low than 500k and age between 30 and 40</td>\n",
       "        </tr>\n",
       "        <tr>\n",
       "            <td>Helen Turner</td>\n",
       "            <td>33</td>\n",
       "            <td>65000.8</td>\n",
       "            <td>salary is low than 500k and age between 30 and 40</td>\n",
       "        </tr>\n",
       "        <tr>\n",
       "            <td>George Harris</td>\n",
       "            <td>28</td>\n",
       "            <td>54000.45</td>\n",
       "            <td>salary is low than 500k and age between 30 and 40</td>\n",
       "        </tr>\n",
       "        <tr>\n",
       "            <td>Ivy Clark</td>\n",
       "            <td>36</td>\n",
       "            <td>68000.3</td>\n",
       "            <td>salary is low than 500k and age between 30 and 40</td>\n",
       "        </tr>\n",
       "        <tr>\n",
       "            <td>Jackie Wilson</td>\n",
       "            <td>31</td>\n",
       "            <td>59000.7</td>\n",
       "            <td>salary is low than 500k and age between 30 and 40</td>\n",
       "        </tr>\n",
       "    </tbody>\n",
       "</table>\n",
       "<span style=\"font-style:italic;text-align:center;\">Truncated to <a href=\"https://jupysql.ploomber.io/en/latest/api/configuration.html#displaylimit\">displaylimit</a> of 10.</span>"
      ],
      "text/plain": [
       "+----------------+-----+----------+---------------------------------------------------+\n",
       "|      Name      | Age |  Salary  |              logical_opereator_result             |\n",
       "+----------------+-----+----------+---------------------------------------------------+\n",
       "| Alice Johnson  |  27 | 55000.25 | salary is low than 500k and age between 30 and 40 |\n",
       "| Charlie Brown  |  40 |  70000   | salary is low than 500k and age between 30 and 40 |\n",
       "|  Eva Williams  |  32 | 60000.5  | salary is low than 500k and age between 30 and 40 |\n",
       "|  David Miller  |  45 | 80000.75 | salary is low than 500k and age between 30 and 40 |\n",
       "|  Grace Davis   |  29 | 52000.9  | salary is low than 500k and age between 30 and 40 |\n",
       "| Franklin Adams |  38 | 72000.6  | salary is low than 500k and age between 30 and 40 |\n",
       "|  Helen Turner  |  33 | 65000.8  | salary is low than 500k and age between 30 and 40 |\n",
       "| George Harris  |  28 | 54000.45 | salary is low than 500k and age between 30 and 40 |\n",
       "|   Ivy Clark    |  36 | 68000.3  | salary is low than 500k and age between 30 and 40 |\n",
       "| Jackie Wilson  |  31 | 59000.7  | salary is low than 500k and age between 30 and 40 |\n",
       "+----------------+-----+----------+---------------------------------------------------+\n",
       "Truncated to displaylimit of 10."
      ]
     },
     "execution_count": 23,
     "metadata": {},
     "output_type": "execute_result"
    }
   ],
   "source": [
    "%%sql sqlite:// \n",
    "SELECT Name , age , salary ,\n",
    "CASE \n",
    "    WHEN Age > 30 AND salary > 600000 THEN 'AGE is Greater than 30 and  HIGH salaray'\n",
    "    WHEN salary < 500000 OR (Age>= 30 AND Age<40) THEN 'salary is low than 500k and age between 30 and 40'\n",
    "ELSE 'other'\n",
    "END AS logical_opereator_result\n",
    "from emp;"
   ]
  },
  {
   "cell_type": "markdown",
   "metadata": {},
   "source": [
    "version 2"
   ]
  },
  {
   "cell_type": "markdown",
   "metadata": {},
   "source": [
    "1.Like "
   ]
  },
  {
   "cell_type": "code",
   "execution_count": 29,
   "metadata": {},
   "outputs": [
    {
     "data": {
      "text/html": [
       "<table>\n",
       "    <thead>\n",
       "        <tr>\n",
       "            <th>ID</th>\n",
       "            <th>Name</th>\n",
       "            <th>Age</th>\n",
       "            <th>Salary</th>\n",
       "            <th>Zip_Code</th>\n",
       "        </tr>\n",
       "    </thead>\n",
       "    <tbody>\n",
       "        <tr>\n",
       "            <td>8</td>\n",
       "            <td>Grace Davis</td>\n",
       "            <td>29</td>\n",
       "            <td>52000.9</td>\n",
       "            <td>55555</td>\n",
       "        </tr>\n",
       "    </tbody>\n",
       "</table>"
      ],
      "text/plain": [
       "+----+-------------+-----+---------+----------+\n",
       "| ID |     Name    | Age |  Salary | Zip_Code |\n",
       "+----+-------------+-----+---------+----------+\n",
       "| 8  | Grace Davis |  29 | 52000.9 |  55555   |\n",
       "+----+-------------+-----+---------+----------+"
      ]
     },
     "execution_count": 29,
     "metadata": {},
     "output_type": "execute_result"
    }
   ],
   "source": [
    "%%sql sqlite:// \n",
    "SELECT * from emp where Name Like '%Davis%';"
   ]
  },
  {
   "cell_type": "markdown",
   "metadata": {},
   "source": [
    "2.Between"
   ]
  },
  {
   "cell_type": "code",
   "execution_count": 31,
   "metadata": {},
   "outputs": [
    {
     "data": {
      "text/html": [
       "<table>\n",
       "    <thead>\n",
       "        <tr>\n",
       "            <th>ID</th>\n",
       "            <th>Name</th>\n",
       "            <th>Age</th>\n",
       "            <th>Salary</th>\n",
       "            <th>Zip_Code</th>\n",
       "        </tr>\n",
       "    </thead>\n",
       "    <tbody>\n",
       "        <tr>\n",
       "            <td>6</td>\n",
       "            <td>Eva Williams</td>\n",
       "            <td>32</td>\n",
       "            <td>60000.5</td>\n",
       "            <td>33333</td>\n",
       "        </tr>\n",
       "        <tr>\n",
       "            <td>8</td>\n",
       "            <td>Grace Davis</td>\n",
       "            <td>29</td>\n",
       "            <td>52000.9</td>\n",
       "            <td>55555</td>\n",
       "        </tr>\n",
       "        <tr>\n",
       "            <td>10</td>\n",
       "            <td>Helen Turner</td>\n",
       "            <td>33</td>\n",
       "            <td>65000.8</td>\n",
       "            <td>77777</td>\n",
       "        </tr>\n",
       "        <tr>\n",
       "            <td>11</td>\n",
       "            <td>George Harris</td>\n",
       "            <td>28</td>\n",
       "            <td>54000.45</td>\n",
       "            <td>88888</td>\n",
       "        </tr>\n",
       "        <tr>\n",
       "            <td>13</td>\n",
       "            <td>Jackie Wilson</td>\n",
       "            <td>31</td>\n",
       "            <td>59000.7</td>\n",
       "            <td>00000</td>\n",
       "        </tr>\n",
       "    </tbody>\n",
       "</table>"
      ],
      "text/plain": [
       "+----+---------------+-----+----------+----------+\n",
       "| ID |      Name     | Age |  Salary  | Zip_Code |\n",
       "+----+---------------+-----+----------+----------+\n",
       "| 6  |  Eva Williams |  32 | 60000.5  |  33333   |\n",
       "| 8  |  Grace Davis  |  29 | 52000.9  |  55555   |\n",
       "| 10 |  Helen Turner |  33 | 65000.8  |  77777   |\n",
       "| 11 | George Harris |  28 | 54000.45 |  88888   |\n",
       "| 13 | Jackie Wilson |  31 | 59000.7  |  00000   |\n",
       "+----+---------------+-----+----------+----------+"
      ]
     },
     "execution_count": 31,
     "metadata": {},
     "output_type": "execute_result"
    }
   ],
   "source": [
    "%%sql sqlite://  \n",
    "SELECT * from emp where Age BETWEEN 28 AND 35;"
   ]
  },
  {
   "cell_type": "markdown",
   "metadata": {},
   "source": [
    "3.IN"
   ]
  },
  {
   "cell_type": "code",
   "execution_count": 36,
   "metadata": {},
   "outputs": [
    {
     "data": {
      "text/html": [
       "<table>\n",
       "    <thead>\n",
       "        <tr>\n",
       "            <th>ID</th>\n",
       "            <th>Name</th>\n",
       "            <th>Age</th>\n",
       "            <th>Salary</th>\n",
       "            <th>Zip_Code</th>\n",
       "        </tr>\n",
       "    </thead>\n",
       "    <tbody>\n",
       "        <tr>\n",
       "            <td>6</td>\n",
       "            <td>Eva Williams</td>\n",
       "            <td>32</td>\n",
       "            <td>60000.5</td>\n",
       "            <td>33333</td>\n",
       "        </tr>\n",
       "        <tr>\n",
       "            <td>8</td>\n",
       "            <td>Grace Davis</td>\n",
       "            <td>29</td>\n",
       "            <td>52000.9</td>\n",
       "            <td>55555</td>\n",
       "        </tr>\n",
       "        <tr>\n",
       "            <td>10</td>\n",
       "            <td>Helen Turner</td>\n",
       "            <td>33</td>\n",
       "            <td>65000.8</td>\n",
       "            <td>77777</td>\n",
       "        </tr>\n",
       "    </tbody>\n",
       "</table>"
      ],
      "text/plain": [
       "+----+--------------+-----+---------+----------+\n",
       "| ID |     Name     | Age |  Salary | Zip_Code |\n",
       "+----+--------------+-----+---------+----------+\n",
       "| 6  | Eva Williams |  32 | 60000.5 |  33333   |\n",
       "| 8  | Grace Davis  |  29 | 52000.9 |  55555   |\n",
       "| 10 | Helen Turner |  33 | 65000.8 |  77777   |\n",
       "+----+--------------+-----+---------+----------+"
      ]
     },
     "execution_count": 36,
     "metadata": {},
     "output_type": "execute_result"
    }
   ],
   "source": [
    "%%sql sqlite://\n",
    "SELECT * from emp where Zip_Code IN (77777,33333,55555);"
   ]
  },
  {
   "cell_type": "markdown",
   "metadata": {},
   "source": [
    "4.Not"
   ]
  },
  {
   "cell_type": "code",
   "execution_count": 40,
   "metadata": {},
   "outputs": [
    {
     "data": {
      "text/html": [
       "<table>\n",
       "    <thead>\n",
       "        <tr>\n",
       "            <th>ID</th>\n",
       "            <th>Name</th>\n",
       "            <th>Age</th>\n",
       "            <th>Salary</th>\n",
       "            <th>Zip_Code</th>\n",
       "        </tr>\n",
       "    </thead>\n",
       "    <tbody>\n",
       "        <tr>\n",
       "            <td>4</td>\n",
       "            <td>Alice Johnson</td>\n",
       "            <td>27</td>\n",
       "            <td>55000.25</td>\n",
       "            <td>11111</td>\n",
       "        </tr>\n",
       "        <tr>\n",
       "            <td>5</td>\n",
       "            <td>Charlie Brown</td>\n",
       "            <td>40</td>\n",
       "            <td>70000</td>\n",
       "            <td>22222</td>\n",
       "        </tr>\n",
       "        <tr>\n",
       "            <td>6</td>\n",
       "            <td>Eva Williams</td>\n",
       "            <td>32</td>\n",
       "            <td>60000.5</td>\n",
       "            <td>33333</td>\n",
       "        </tr>\n",
       "        <tr>\n",
       "            <td>7</td>\n",
       "            <td>David Miller</td>\n",
       "            <td>45</td>\n",
       "            <td>80000.75</td>\n",
       "            <td>44444</td>\n",
       "        </tr>\n",
       "        <tr>\n",
       "            <td>9</td>\n",
       "            <td>Franklin Adams</td>\n",
       "            <td>38</td>\n",
       "            <td>72000.6</td>\n",
       "            <td>66666</td>\n",
       "        </tr>\n",
       "        <tr>\n",
       "            <td>10</td>\n",
       "            <td>Helen Turner</td>\n",
       "            <td>33</td>\n",
       "            <td>65000.8</td>\n",
       "            <td>77777</td>\n",
       "        </tr>\n",
       "        <tr>\n",
       "            <td>11</td>\n",
       "            <td>George Harris</td>\n",
       "            <td>28</td>\n",
       "            <td>54000.45</td>\n",
       "            <td>88888</td>\n",
       "        </tr>\n",
       "        <tr>\n",
       "            <td>12</td>\n",
       "            <td>Ivy Clark</td>\n",
       "            <td>36</td>\n",
       "            <td>68000.3</td>\n",
       "            <td>99999</td>\n",
       "        </tr>\n",
       "        <tr>\n",
       "            <td>13</td>\n",
       "            <td>Jackie Wilson</td>\n",
       "            <td>31</td>\n",
       "            <td>59000.7</td>\n",
       "            <td>00000</td>\n",
       "        </tr>\n",
       "    </tbody>\n",
       "</table>"
      ],
      "text/plain": [
       "+----+----------------+-----+----------+----------+\n",
       "| ID |      Name      | Age |  Salary  | Zip_Code |\n",
       "+----+----------------+-----+----------+----------+\n",
       "| 4  | Alice Johnson  |  27 | 55000.25 |  11111   |\n",
       "| 5  | Charlie Brown  |  40 |  70000   |  22222   |\n",
       "| 6  |  Eva Williams  |  32 | 60000.5  |  33333   |\n",
       "| 7  |  David Miller  |  45 | 80000.75 |  44444   |\n",
       "| 9  | Franklin Adams |  38 | 72000.6  |  66666   |\n",
       "| 10 |  Helen Turner  |  33 | 65000.8  |  77777   |\n",
       "| 11 | George Harris  |  28 | 54000.45 |  88888   |\n",
       "| 12 |   Ivy Clark    |  36 | 68000.3  |  99999   |\n",
       "| 13 | Jackie Wilson  |  31 | 59000.7  |  00000   |\n",
       "+----+----------------+-----+----------+----------+"
      ]
     },
     "execution_count": 40,
     "metadata": {},
     "output_type": "execute_result"
    }
   ],
   "source": [
    "%%sql sqlite://\n",
    "SELECT * from emp where AGE NOT IN (29,34);"
   ]
  },
  {
   "cell_type": "markdown",
   "metadata": {},
   "source": [
    "5.All and ANy doesnot support"
   ]
  },
  {
   "cell_type": "markdown",
   "metadata": {},
   "source": [
    "## iv.Bitwise operators:"
   ]
  },
  {
   "cell_type": "code",
   "execution_count": 64,
   "metadata": {},
   "outputs": [
    {
     "data": {
      "text/plain": [
       "'Not supported'"
      ]
     },
     "execution_count": 64,
     "metadata": {},
     "output_type": "execute_result"
    }
   ],
   "source": [
    "'''Not supported'''"
   ]
  },
  {
   "cell_type": "markdown",
   "metadata": {},
   "source": [
    "## a.LIMIT Clause"
   ]
  },
  {
   "cell_type": "code",
   "execution_count": 68,
   "metadata": {},
   "outputs": [
    {
     "data": {
      "text/html": [
       "<table>\n",
       "    <thead>\n",
       "        <tr>\n",
       "            <th>ID</th>\n",
       "            <th>Name</th>\n",
       "            <th>Age</th>\n",
       "            <th>Salary</th>\n",
       "            <th>Zip_Code</th>\n",
       "        </tr>\n",
       "    </thead>\n",
       "    <tbody>\n",
       "        <tr>\n",
       "            <td>4</td>\n",
       "            <td>Alice Johnson</td>\n",
       "            <td>27</td>\n",
       "            <td>55000.25</td>\n",
       "            <td>11111</td>\n",
       "        </tr>\n",
       "        <tr>\n",
       "            <td>5</td>\n",
       "            <td>Charlie Brown</td>\n",
       "            <td>40</td>\n",
       "            <td>70000</td>\n",
       "            <td>22222</td>\n",
       "        </tr>\n",
       "        <tr>\n",
       "            <td>6</td>\n",
       "            <td>Eva Williams</td>\n",
       "            <td>32</td>\n",
       "            <td>60000.5</td>\n",
       "            <td>33333</td>\n",
       "        </tr>\n",
       "    </tbody>\n",
       "</table>"
      ],
      "text/plain": [
       "+----+---------------+-----+----------+----------+\n",
       "| ID |      Name     | Age |  Salary  | Zip_Code |\n",
       "+----+---------------+-----+----------+----------+\n",
       "| 4  | Alice Johnson |  27 | 55000.25 |  11111   |\n",
       "| 5  | Charlie Brown |  40 |  70000   |  22222   |\n",
       "| 6  |  Eva Williams |  32 | 60000.5  |  33333   |\n",
       "+----+---------------+-----+----------+----------+"
      ]
     },
     "execution_count": 68,
     "metadata": {},
     "output_type": "execute_result"
    }
   ],
   "source": [
    "%%sql sqlite://\n",
    "SELECT * from emp limit 3;"
   ]
  },
  {
   "cell_type": "markdown",
   "metadata": {},
   "source": [
    "## b.ORDER BY Clause"
   ]
  },
  {
   "cell_type": "code",
   "execution_count": 71,
   "metadata": {},
   "outputs": [
    {
     "data": {
      "text/html": [
       "<table>\n",
       "    <thead>\n",
       "        <tr>\n",
       "            <th>ID</th>\n",
       "            <th>Name</th>\n",
       "            <th>Age</th>\n",
       "            <th>Salary</th>\n",
       "            <th>Zip_Code</th>\n",
       "        </tr>\n",
       "    </thead>\n",
       "    <tbody>\n",
       "        <tr>\n",
       "            <td>4</td>\n",
       "            <td>Alice Johnson</td>\n",
       "            <td>27</td>\n",
       "            <td>55000.25</td>\n",
       "            <td>11111</td>\n",
       "        </tr>\n",
       "        <tr>\n",
       "            <td>5</td>\n",
       "            <td>Charlie Brown</td>\n",
       "            <td>40</td>\n",
       "            <td>70000</td>\n",
       "            <td>22222</td>\n",
       "        </tr>\n",
       "        <tr>\n",
       "            <td>6</td>\n",
       "            <td>Eva Williams</td>\n",
       "            <td>32</td>\n",
       "            <td>60000.5</td>\n",
       "            <td>33333</td>\n",
       "        </tr>\n",
       "        <tr>\n",
       "            <td>7</td>\n",
       "            <td>David Miller</td>\n",
       "            <td>45</td>\n",
       "            <td>80000.75</td>\n",
       "            <td>44444</td>\n",
       "        </tr>\n",
       "        <tr>\n",
       "            <td>8</td>\n",
       "            <td>Grace Davis</td>\n",
       "            <td>29</td>\n",
       "            <td>52000.9</td>\n",
       "            <td>55555</td>\n",
       "        </tr>\n",
       "        <tr>\n",
       "            <td>9</td>\n",
       "            <td>Franklin Adams</td>\n",
       "            <td>38</td>\n",
       "            <td>72000.6</td>\n",
       "            <td>66666</td>\n",
       "        </tr>\n",
       "        <tr>\n",
       "            <td>10</td>\n",
       "            <td>Helen Turner</td>\n",
       "            <td>33</td>\n",
       "            <td>65000.8</td>\n",
       "            <td>77777</td>\n",
       "        </tr>\n",
       "        <tr>\n",
       "            <td>11</td>\n",
       "            <td>George Harris</td>\n",
       "            <td>28</td>\n",
       "            <td>54000.45</td>\n",
       "            <td>88888</td>\n",
       "        </tr>\n",
       "        <tr>\n",
       "            <td>12</td>\n",
       "            <td>Ivy Clark</td>\n",
       "            <td>36</td>\n",
       "            <td>68000.3</td>\n",
       "            <td>99999</td>\n",
       "        </tr>\n",
       "        <tr>\n",
       "            <td>13</td>\n",
       "            <td>Jackie Wilson</td>\n",
       "            <td>31</td>\n",
       "            <td>59000.7</td>\n",
       "            <td>00000</td>\n",
       "        </tr>\n",
       "    </tbody>\n",
       "</table>\n",
       "<span style=\"font-style:italic;text-align:center;\">Truncated to <a href=\"https://jupysql.ploomber.io/en/latest/api/configuration.html#displaylimit\">displaylimit</a> of 10.</span>"
      ],
      "text/plain": [
       "+----+----------------+-----+----------+----------+\n",
       "| ID |      Name      | Age |  Salary  | Zip_Code |\n",
       "+----+----------------+-----+----------+----------+\n",
       "| 4  | Alice Johnson  |  27 | 55000.25 |  11111   |\n",
       "| 5  | Charlie Brown  |  40 |  70000   |  22222   |\n",
       "| 6  |  Eva Williams  |  32 | 60000.5  |  33333   |\n",
       "| 7  |  David Miller  |  45 | 80000.75 |  44444   |\n",
       "| 8  |  Grace Davis   |  29 | 52000.9  |  55555   |\n",
       "| 9  | Franklin Adams |  38 | 72000.6  |  66666   |\n",
       "| 10 |  Helen Turner  |  33 | 65000.8  |  77777   |\n",
       "| 11 | George Harris  |  28 | 54000.45 |  88888   |\n",
       "| 12 |   Ivy Clark    |  36 | 68000.3  |  99999   |\n",
       "| 13 | Jackie Wilson  |  31 | 59000.7  |  00000   |\n",
       "+----+----------------+-----+----------+----------+\n",
       "Truncated to displaylimit of 10."
      ]
     },
     "execution_count": 71,
     "metadata": {},
     "output_type": "execute_result"
    }
   ],
   "source": [
    "%%sql sqlite://\n",
    "SELECT * from emp order by ID ASC;"
   ]
  },
  {
   "cell_type": "code",
   "execution_count": 76,
   "metadata": {},
   "outputs": [
    {
     "data": {
      "text/html": [
       "<table>\n",
       "    <thead>\n",
       "        <tr>\n",
       "            <th>ID</th>\n",
       "            <th>Name</th>\n",
       "            <th>Age</th>\n",
       "            <th>Salary</th>\n",
       "            <th>Zip_Code</th>\n",
       "        </tr>\n",
       "    </thead>\n",
       "    <tbody>\n",
       "        <tr>\n",
       "            <td>13</td>\n",
       "            <td>Jackie Wilson</td>\n",
       "            <td>31</td>\n",
       "            <td>59000.7</td>\n",
       "            <td>00000</td>\n",
       "        </tr>\n",
       "        <tr>\n",
       "            <td>12</td>\n",
       "            <td>Ivy Clark</td>\n",
       "            <td>36</td>\n",
       "            <td>68000.3</td>\n",
       "            <td>99999</td>\n",
       "        </tr>\n",
       "        <tr>\n",
       "            <td>11</td>\n",
       "            <td>George Harris</td>\n",
       "            <td>28</td>\n",
       "            <td>54000.45</td>\n",
       "            <td>88888</td>\n",
       "        </tr>\n",
       "        <tr>\n",
       "            <td>10</td>\n",
       "            <td>Helen Turner</td>\n",
       "            <td>33</td>\n",
       "            <td>65000.8</td>\n",
       "            <td>77777</td>\n",
       "        </tr>\n",
       "        <tr>\n",
       "            <td>9</td>\n",
       "            <td>Franklin Adams</td>\n",
       "            <td>38</td>\n",
       "            <td>72000.6</td>\n",
       "            <td>66666</td>\n",
       "        </tr>\n",
       "    </tbody>\n",
       "</table>"
      ],
      "text/plain": [
       "+----+----------------+-----+----------+----------+\n",
       "| ID |      Name      | Age |  Salary  | Zip_Code |\n",
       "+----+----------------+-----+----------+----------+\n",
       "| 13 | Jackie Wilson  |  31 | 59000.7  |  00000   |\n",
       "| 12 |   Ivy Clark    |  36 | 68000.3  |  99999   |\n",
       "| 11 | George Harris  |  28 | 54000.45 |  88888   |\n",
       "| 10 |  Helen Turner  |  33 | 65000.8  |  77777   |\n",
       "| 9  | Franklin Adams |  38 | 72000.6  |  66666   |\n",
       "+----+----------------+-----+----------+----------+"
      ]
     },
     "execution_count": 76,
     "metadata": {},
     "output_type": "execute_result"
    }
   ],
   "source": [
    "%%sql sqlite://\n",
    "SELECT * from emp order by ID DESC LIMIT 5;"
   ]
  },
  {
   "cell_type": "code",
   "execution_count": null,
   "metadata": {},
   "outputs": [],
   "source": []
  }
 ],
 "metadata": {
  "kernelspec": {
   "display_name": "Python 3",
   "language": "python",
   "name": "python3"
  },
  "language_info": {
   "codemirror_mode": {
    "name": "ipython",
    "version": 3
   },
   "file_extension": ".py",
   "mimetype": "text/x-python",
   "name": "python",
   "nbconvert_exporter": "python",
   "pygments_lexer": "ipython3",
   "version": "3.10.5"
  }
 },
 "nbformat": 4,
 "nbformat_minor": 2
}
