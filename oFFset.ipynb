{
 "cells": [
  {
   "cell_type": "markdown",
   "metadata": {},
   "source": [
    "# OFFSET"
   ]
  },
  {
   "cell_type": "markdown",
   "metadata": {},
   "source": [
    "\n",
    "\n",
    "One common question involving the OFFSET clause in SQL is about pagination. Pagination is the process of dividing a set of results into discrete pages. Here's an example:\n",
    "\n",
    "Question: \"How do you implement pagination using the OFFSET and LIMIT clauses in SQL?\"\n",
    "\n",
    "Answer: Pagination using OFFSET and LIMIT clauses is commonly used to display a subset of results in a user interface, such as displaying search results in web applications. Here's how you can implement pagination:\n",
    "\n",
    "sql"
   ]
  },
  {
   "cell_type": "code",
   "execution_count": 1,
   "metadata": {},
   "outputs": [
    {
     "name": "stdout",
     "output_type": "stream",
     "text": [
      "Note: you may need to restart the kernel to use updated packages.\n"
     ]
    },
    {
     "name": "stderr",
     "output_type": "stream",
     "text": [
      "DEPRECATION: textract 1.6.5 has a non-standard dependency specifier extract-msg<=0.29.*. pip 23.3 will enforce this behaviour change. A possible replacement is to upgrade to a newer version of textract or contact the author to suggest that they release a version with a conforming dependency specifiers. Discussion can be found at https://github.com/pypa/pip/issues/12063\n"
     ]
    }
   ],
   "source": [
    "%pip install jupysql --quiet"
   ]
  },
  {
   "cell_type": "code",
   "execution_count": 2,
   "metadata": {},
   "outputs": [],
   "source": [
    "%load_ext sql\n"
   ]
  },
  {
   "cell_type": "code",
   "execution_count": 3,
   "metadata": {},
   "outputs": [
    {
     "data": {
      "text/html": [
       "<span style=\"None\">Connecting to &#x27;sqlite://&#x27;</span>"
      ],
      "text/plain": [
       "Connecting to 'sqlite://'"
      ]
     },
     "metadata": {},
     "output_type": "display_data"
    },
    {
     "data": {
      "text/html": [
       "<table>\n",
       "    <thead>\n",
       "        <tr>\n",
       "        </tr>\n",
       "    </thead>\n",
       "    <tbody>\n",
       "    </tbody>\n",
       "</table>"
      ],
      "text/plain": [
       "++\n",
       "||\n",
       "++\n",
       "++"
      ]
     },
     "execution_count": 3,
     "metadata": {},
     "output_type": "execute_result"
    }
   ],
   "source": [
    "%%sql sqlite:// \n",
    "CREATE TABLE products (\n",
    "    product_id SERIAL PRIMARY KEY,\n",
    "    product_name VARCHAR(50)\n",
    ");"
   ]
  },
  {
   "cell_type": "code",
   "execution_count": 4,
   "metadata": {},
   "outputs": [
    {
     "data": {
      "text/html": [
       "<span style=\"color: green\">11 rows affected.</span>"
      ],
      "text/plain": [
       "11 rows affected."
      ]
     },
     "metadata": {},
     "output_type": "display_data"
    },
    {
     "data": {
      "text/html": [
       "<table>\n",
       "    <thead>\n",
       "        <tr>\n",
       "        </tr>\n",
       "    </thead>\n",
       "    <tbody>\n",
       "    </tbody>\n",
       "</table>"
      ],
      "text/plain": [
       "++\n",
       "||\n",
       "++\n",
       "++"
      ]
     },
     "execution_count": 4,
     "metadata": {},
     "output_type": "execute_result"
    }
   ],
   "source": [
    "%%sql sqlite:// \n",
    "INSERT INTO products (product_name) VALUES\n",
    "('Product A'),\n",
    "('Product B'),\n",
    "('Product C'),\n",
    "('Product D'),\n",
    "('Product E'),\n",
    "('Product F'),\n",
    "('Product G'),\n",
    "('Product H'),\n",
    "('Product I'),\n",
    "('Product J'),\n",
    "('Product K');\n"
   ]
  },
  {
   "cell_type": "code",
   "execution_count": 13,
   "metadata": {},
   "outputs": [
    {
     "data": {
      "text/html": [
       "<table>\n",
       "    <thead>\n",
       "        <tr>\n",
       "            <th>product_id</th>\n",
       "            <th>product_name</th>\n",
       "        </tr>\n",
       "    </thead>\n",
       "    <tbody>\n",
       "        <tr>\n",
       "            <td>None</td>\n",
       "            <td>Product F</td>\n",
       "        </tr>\n",
       "        <tr>\n",
       "            <td>None</td>\n",
       "            <td>Product G</td>\n",
       "        </tr>\n",
       "        <tr>\n",
       "            <td>None</td>\n",
       "            <td>Product H</td>\n",
       "        </tr>\n",
       "        <tr>\n",
       "            <td>None</td>\n",
       "            <td>Product I</td>\n",
       "        </tr>\n",
       "        <tr>\n",
       "            <td>None</td>\n",
       "            <td>Product J</td>\n",
       "        </tr>\n",
       "    </tbody>\n",
       "</table>"
      ],
      "text/plain": [
       "+------------+--------------+\n",
       "| product_id | product_name |\n",
       "+------------+--------------+\n",
       "|    None    |  Product F   |\n",
       "|    None    |  Product G   |\n",
       "|    None    |  Product H   |\n",
       "|    None    |  Product I   |\n",
       "|    None    |  Product J   |\n",
       "+------------+--------------+"
      ]
     },
     "execution_count": 13,
     "metadata": {},
     "output_type": "execute_result"
    }
   ],
   "source": [
    "%%sql sqlite://  \n",
    "SELECT  * FROM products ORDER BY product_id LIMIT 5 OFFSET 5;"
   ]
  },
  {
   "cell_type": "code",
   "execution_count": 10,
   "metadata": {},
   "outputs": [
    {
     "data": {
      "text/html": [
       "<table>\n",
       "    <thead>\n",
       "        <tr>\n",
       "            <th>product_id</th>\n",
       "            <th>product_name</th>\n",
       "        </tr>\n",
       "    </thead>\n",
       "    <tbody>\n",
       "        <tr>\n",
       "            <td>None</td>\n",
       "            <td>Product K</td>\n",
       "        </tr>\n",
       "    </tbody>\n",
       "</table>"
      ],
      "text/plain": [
       "+------------+--------------+\n",
       "| product_id | product_name |\n",
       "+------------+--------------+\n",
       "|    None    |  Product K   |\n",
       "+------------+--------------+"
      ]
     },
     "execution_count": 10,
     "metadata": {},
     "output_type": "execute_result"
    }
   ],
   "source": [
    "%%sql sqlite://  \n",
    "SELECT  * FROM products ORDER BY product_id LIMIT 5 OFFSET 10;"
   ]
  },
  {
   "cell_type": "code",
   "execution_count": null,
   "metadata": {},
   "outputs": [],
   "source": [
    "''' #!SECTION example \n",
    "-- Assuming we have a table named 'products' with columns 'product_id' and 'product_name'\n",
    "\n",
    "-- To fetch the first page of results (e.g., first 10 products)\n",
    "SELECT product_id, product_name\n",
    "FROM products\n",
    "ORDER BY product_id\n",
    "LIMIT 10;\n",
    "\n",
    "-- To fetch the second page of results (e.g., products 11 to 20)\n",
    "SELECT product_id, product_name\n",
    "FROM products\n",
    "ORDER BY product_id\n",
    "LIMIT 10 OFFSET 10;\n",
    "\n",
    "-- To fetch the third page of results (e.g., products 21 to 30)\n",
    "SELECT product_id, product_name\n",
    "FROM products\n",
    "ORDER BY product_id\n",
    "LIMIT 10 OFFSET 20;\n",
    "\n",
    "-- And so on...\n",
    "\n",
    "#  '''"
   ]
  }
 ],
 "metadata": {
  "kernelspec": {
   "display_name": "base",
   "language": "python",
   "name": "python3"
  },
  "language_info": {
   "codemirror_mode": {
    "name": "ipython",
    "version": 3
   },
   "file_extension": ".py",
   "mimetype": "text/x-python",
   "name": "python",
   "nbconvert_exporter": "python",
   "pygments_lexer": "ipython3",
   "version": "3.11.5"
  }
 },
 "nbformat": 4,
 "nbformat_minor": 2
}
