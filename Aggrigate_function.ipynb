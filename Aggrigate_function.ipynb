{
  "cells": [
    {
      "cell_type": "code",
      "execution_count": 1,
      "metadata": {
        "colab": {
          "base_uri": "https://localhost:8080/"
        },
        "id": "OdJMNQz8hJ1U",
        "outputId": "c9d7bc2e-9b6f-4a1f-d8fc-28cd0bbc6638"
      },
      "outputs": [
        {
          "name": "stdout",
          "output_type": "stream",
          "text": [
            "\u001b[2K     \u001b[90m━━━━━━━━━━━━━━━━━━━━━━━━━━━━━━━━━━━━━━━━\u001b[0m \u001b[32m95.7/95.7 kB\u001b[0m \u001b[31m2.0 MB/s\u001b[0m eta \u001b[36m0:00:00\u001b[0m\n",
            "\u001b[2K     \u001b[90m━━━━━━━━━━━━━━━━━━━━━━━━━━━━━━━━━━━━━━━━\u001b[0m \u001b[32m250.9/250.9 kB\u001b[0m \u001b[31m11.0 MB/s\u001b[0m eta \u001b[36m0:00:00\u001b[0m\n",
            "\u001b[2K     \u001b[90m━━━━━━━━━━━━━━━━━━━━━━━━━━━━━━━━━━━━━━━━\u001b[0m \u001b[32m193.0/193.0 kB\u001b[0m \u001b[31m19.4 MB/s\u001b[0m eta \u001b[36m0:00:00\u001b[0m\n",
            "\u001b[2K     \u001b[90m━━━━━━━━━━━━━━━━━━━━━━━━━━━━━━━━━━━━━━━━\u001b[0m \u001b[32m41.3/41.3 kB\u001b[0m \u001b[31m4.2 MB/s\u001b[0m eta \u001b[36m0:00:00\u001b[0m\n",
            "\u001b[?25h"
          ]
        }
      ],
      "source": [
        "%pip install jupysql --quiet"
      ]
    },
    {
      "cell_type": "code",
      "execution_count": 2,
      "metadata": {
        "colab": {
          "base_uri": "https://localhost:8080/"
        },
        "id": "RBqagAYMhYss",
        "outputId": "89c1fd8b-f36b-423d-b8ed-df50649fdd08"
      },
      "outputs": [
        {
          "name": "stdout",
          "output_type": "stream",
          "text": [
            "Deploy Streamlit apps for free on Ploomber Cloud! Learn more: https://ploomber.io/s/signup\n"
          ]
        }
      ],
      "source": [
        "%load_ext sql"
      ]
    },
    {
      "cell_type": "code",
      "execution_count": 3,
      "metadata": {
        "colab": {
          "base_uri": "https://localhost:8080/",
          "height": 34
        },
        "id": "2soVkmtchc3L",
        "outputId": "18bd3324-c970-42bf-a072-b7c47b2a7764"
      },
      "outputs": [
        {
          "data": {
            "text/html": [
              "<span style=\"None\">Connecting to &#x27;sqlite://&#x27;</span>"
            ],
            "text/plain": [
              "Connecting to 'sqlite://'"
            ]
          },
          "metadata": {},
          "output_type": "display_data"
        },
        {
          "data": {
            "text/html": [
              "<table>\n",
              "    <thead>\n",
              "        <tr>\n",
              "        </tr>\n",
              "    </thead>\n",
              "    <tbody>\n",
              "    </tbody>\n",
              "</table>"
            ],
            "text/plain": [
              "++\n",
              "||\n",
              "++\n",
              "++"
            ]
          },
          "execution_count": 3,
          "metadata": {},
          "output_type": "execute_result"
        }
      ],
      "source": [
        "%%sql sqlite://\n",
        "CREATE TABLE sales (\n",
        "  id INT PRIMARY KEY,\n",
        "  product_name VARCHAR(255),\n",
        "  category VARCHAR(50),\n",
        "  sale_date DATE,\n",
        "  quantity INT,\n",
        "  amount DECIMAL(10, 2)\n",
        ");\n"
      ]
    },
    {
      "cell_type": "code",
      "execution_count": 4,
      "metadata": {
        "colab": {
          "base_uri": "https://localhost:8080/",
          "height": 34
        },
        "id": "Zqe4cgYlhnpZ",
        "outputId": "915d4110-bbf4-4716-9566-73176fa04e76"
      },
      "outputs": [
        {
          "data": {
            "text/html": [
              "<span style=\"color: green\">5 rows affected.</span>"
            ],
            "text/plain": [
              "5 rows affected."
            ]
          },
          "metadata": {},
          "output_type": "display_data"
        },
        {
          "data": {
            "text/html": [
              "<table>\n",
              "    <thead>\n",
              "        <tr>\n",
              "        </tr>\n",
              "    </thead>\n",
              "    <tbody>\n",
              "    </tbody>\n",
              "</table>"
            ],
            "text/plain": [
              "++\n",
              "||\n",
              "++\n",
              "++"
            ]
          },
          "execution_count": 4,
          "metadata": {},
          "output_type": "execute_result"
        }
      ],
      "source": [
        "%%sql sqlite://\n",
        "INSERT INTO sales (id, product_name, category, sale_date, quantity, amount)\n",
        "VALUES\n",
        "  (1, 'Product A', 'Electronics', '2022-01-01', 10, 500.00),\n",
        "  (2, 'Product B', 'Clothing', '2022-01-02', 5, 250.50),\n",
        "  (3, 'Product C', 'Furniture', '2022-01-03', 8, 700.75),\n",
        "  (4, 'Product A', 'Electronics', '2022-01-04', 12, 600.00),\n",
        "  (5, 'Product B', 'Clothing', '2022-01-05', 7, 350.25);\n"
      ]
    },
    {
      "cell_type": "code",
      "execution_count": 6,
      "metadata": {
        "colab": {
          "base_uri": "https://localhost:8080/",
          "height": 59
        },
        "id": "ZBN3e-P4hw-B",
        "outputId": "f4be69e7-20b8-4a8b-a901-46df4473e7e0"
      },
      "outputs": [
        {
          "data": {
            "text/html": [
              "<table>\n",
              "    <thead>\n",
              "        <tr>\n",
              "            <th>sum(amount)</th>\n",
              "        </tr>\n",
              "    </thead>\n",
              "    <tbody>\n",
              "        <tr>\n",
              "            <td>2401.5</td>\n",
              "        </tr>\n",
              "    </tbody>\n",
              "</table>"
            ],
            "text/plain": [
              "+-------------+\n",
              "| sum(amount) |\n",
              "+-------------+\n",
              "|    2401.5   |\n",
              "+-------------+"
            ]
          },
          "execution_count": 6,
          "metadata": {},
          "output_type": "execute_result"
        }
      ],
      "source": [
        "# @title Default title text\n",
        "%%sql sqlite://\n",
        "SELECT sum(amount) FROM sales;"
      ]
    },
    {
      "cell_type": "markdown",
      "metadata": {
        "id": "6R6qVM2vil8X"
      },
      "source": [
        "Avrage"
      ]
    },
    {
      "cell_type": "code",
      "execution_count": 7,
      "metadata": {
        "colab": {
          "base_uri": "https://localhost:8080/",
          "height": 59
        },
        "id": "_4mH7FjciMCv",
        "outputId": "2de3bbb9-ab79-44ee-e7cf-beedac524148"
      },
      "outputs": [
        {
          "data": {
            "text/html": [
              "<table>\n",
              "    <thead>\n",
              "        <tr>\n",
              "            <th>avg(amount)</th>\n",
              "        </tr>\n",
              "    </thead>\n",
              "    <tbody>\n",
              "        <tr>\n",
              "            <td>480.3</td>\n",
              "        </tr>\n",
              "    </tbody>\n",
              "</table>"
            ],
            "text/plain": [
              "+-------------+\n",
              "| avg(amount) |\n",
              "+-------------+\n",
              "|    480.3    |\n",
              "+-------------+"
            ]
          },
          "execution_count": 7,
          "metadata": {},
          "output_type": "execute_result"
        }
      ],
      "source": [
        "%%sql sqlite://\n",
        "SELECT avg(amount) FROM sales;"
      ]
    },
    {
      "cell_type": "markdown",
      "metadata": {
        "id": "diCfet8Si-9_"
      },
      "source": [
        "maximum"
      ]
    },
    {
      "cell_type": "code",
      "execution_count": 8,
      "metadata": {
        "colab": {
          "base_uri": "https://localhost:8080/",
          "height": 59
        },
        "id": "bp-wCCqXiQXp",
        "outputId": "f23648dd-38ee-4348-853b-ae5d514efe38"
      },
      "outputs": [
        {
          "data": {
            "text/html": [
              "<table>\n",
              "    <thead>\n",
              "        <tr>\n",
              "            <th>max(amount)</th>\n",
              "        </tr>\n",
              "    </thead>\n",
              "    <tbody>\n",
              "        <tr>\n",
              "            <td>700.75</td>\n",
              "        </tr>\n",
              "    </tbody>\n",
              "</table>"
            ],
            "text/plain": [
              "+-------------+\n",
              "| max(amount) |\n",
              "+-------------+\n",
              "|    700.75   |\n",
              "+-------------+"
            ]
          },
          "execution_count": 8,
          "metadata": {},
          "output_type": "execute_result"
        }
      ],
      "source": [
        "%%sql sqlite://\n",
        "SELECT max(amount) FROM sales;"
      ]
    },
    {
      "cell_type": "markdown",
      "metadata": {
        "id": "IRgJeXG6jBVX"
      },
      "source": [
        "Minimum"
      ]
    },
    {
      "cell_type": "code",
      "execution_count": 9,
      "metadata": {
        "colab": {
          "base_uri": "https://localhost:8080/",
          "height": 59
        },
        "id": "BePOdGdRiQip",
        "outputId": "614116de-ae2f-418b-e4c3-69e443e91c2d"
      },
      "outputs": [
        {
          "data": {
            "text/html": [
              "<table>\n",
              "    <thead>\n",
              "        <tr>\n",
              "            <th>MIN(amount)</th>\n",
              "        </tr>\n",
              "    </thead>\n",
              "    <tbody>\n",
              "        <tr>\n",
              "            <td>250.5</td>\n",
              "        </tr>\n",
              "    </tbody>\n",
              "</table>"
            ],
            "text/plain": [
              "+-------------+\n",
              "| MIN(amount) |\n",
              "+-------------+\n",
              "|    250.5    |\n",
              "+-------------+"
            ]
          },
          "execution_count": 9,
          "metadata": {},
          "output_type": "execute_result"
        }
      ],
      "source": [
        "%%sql sqlite://\n",
        "SELECT MIN(amount) from sales;"
      ]
    },
    {
      "cell_type": "markdown",
      "metadata": {
        "id": "gcNDbZryjnEm"
      },
      "source": [
        "# GROUP BY & HAVING CLAUSE"
      ]
    },
    {
      "cell_type": "markdown",
      "metadata": {
        "id": "JzaDELUqjvNo"
      },
      "source": [
        "### Group by"
      ]
    },
    {
      "cell_type": "code",
      "execution_count": 12,
      "metadata": {
        "colab": {
          "base_uri": "https://localhost:8080/",
          "height": 100
        },
        "id": "I3xJbbbhiQuh",
        "outputId": "b0b3e252-c17a-4970-a10f-db1fb832f5e8"
      },
      "outputs": [
        {
          "data": {
            "text/html": [
              "<table>\n",
              "    <thead>\n",
              "        <tr>\n",
              "            <th>category</th>\n",
              "            <th>sum(quantity)</th>\n",
              "        </tr>\n",
              "    </thead>\n",
              "    <tbody>\n",
              "        <tr>\n",
              "            <td>Clothing</td>\n",
              "            <td>12</td>\n",
              "        </tr>\n",
              "        <tr>\n",
              "            <td>Electronics</td>\n",
              "            <td>22</td>\n",
              "        </tr>\n",
              "        <tr>\n",
              "            <td>Furniture</td>\n",
              "            <td>8</td>\n",
              "        </tr>\n",
              "    </tbody>\n",
              "</table>"
            ],
            "text/plain": [
              "+-------------+---------------+\n",
              "|   category  | sum(quantity) |\n",
              "+-------------+---------------+\n",
              "|   Clothing  |       12      |\n",
              "| Electronics |       22      |\n",
              "|  Furniture  |       8       |\n",
              "+-------------+---------------+"
            ]
          },
          "execution_count": 12,
          "metadata": {},
          "output_type": "execute_result"
        }
      ],
      "source": [
        "# Select total quantity as per Product categorey\n",
        "%%sql sqlite://\n",
        "SELECT category , sum(quantity) FROM sales GROUP BY category ;"
      ]
    },
    {
      "cell_type": "markdown",
      "metadata": {
        "id": "X-CROa6nkwaJ"
      },
      "source": [
        "### Having Clause"
      ]
    },
    {
      "cell_type": "code",
      "execution_count": 14,
      "metadata": {
        "colab": {
          "base_uri": "https://localhost:8080/",
          "height": 59
        },
        "id": "MepTtT0jiQxo",
        "outputId": "05af27ce-ddeb-42d0-fc46-2196f43a2b01"
      },
      "outputs": [
        {
          "data": {
            "text/html": [
              "<table>\n",
              "    <thead>\n",
              "        <tr>\n",
              "            <th>category</th>\n",
              "            <th>sum(quantity)</th>\n",
              "        </tr>\n",
              "    </thead>\n",
              "    <tbody>\n",
              "        <tr>\n",
              "            <td>Furniture</td>\n",
              "            <td>8</td>\n",
              "        </tr>\n",
              "    </tbody>\n",
              "</table>"
            ],
            "text/plain": [
              "+-----------+---------------+\n",
              "|  category | sum(quantity) |\n",
              "+-----------+---------------+\n",
              "| Furniture |       8       |\n",
              "+-----------+---------------+"
            ]
          },
          "execution_count": 14,
          "metadata": {},
          "output_type": "execute_result"
        }
      ],
      "source": [
        "%%sql sqlite://\n",
        "SELECT category , sum(quantity) FROM sales GROUP BY category having sum(quantity) < 10 ;"
      ]
    }
  ],
  "metadata": {
    "colab": {
      "provenance": []
    },
    "kernelspec": {
      "display_name": "Python 3",
      "name": "python3"
    },
    "language_info": {
      "name": "python"
    }
  },
  "nbformat": 4,
  "nbformat_minor": 0
}
