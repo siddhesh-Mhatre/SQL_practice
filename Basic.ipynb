{
 "cells": [
  {
   "cell_type": "markdown",
   "metadata": {},
   "source": [
    "i. Importing"
   ]
  },
  {
   "cell_type": "code",
   "execution_count": 1,
   "metadata": {},
   "outputs": [
    {
     "name": "stdout",
     "output_type": "stream",
     "text": [
      "Note: you may need to restart the kernel to use updated packages.\n"
     ]
    }
   ],
   "source": [
    "%pip install jupysql --quiet"
   ]
  },
  {
   "cell_type": "code",
   "execution_count": 2,
   "metadata": {},
   "outputs": [],
   "source": [
    "%load_ext sql"
   ]
  },
  {
   "cell_type": "markdown",
   "metadata": {},
   "source": [
    "ii. create table that has (CustID, CustName, Age, City, Salary)"
   ]
  },
  {
   "cell_type": "code",
   "execution_count": 3,
   "metadata": {},
   "outputs": [
    {
     "data": {
      "text/html": [
       "<span style=\"None\">Connecting to &#x27;sqlite://&#x27;</span>"
      ],
      "text/plain": [
       "Connecting to 'sqlite://'"
      ]
     },
     "metadata": {},
     "output_type": "display_data"
    },
    {
     "data": {
      "text/html": [
       "<table>\n",
       "    <thead>\n",
       "        <tr>\n",
       "        </tr>\n",
       "    </thead>\n",
       "    <tbody>\n",
       "    </tbody>\n",
       "</table>"
      ],
      "text/plain": [
       "++\n",
       "||\n",
       "++\n",
       "++"
      ]
     },
     "execution_count": 3,
     "metadata": {},
     "output_type": "execute_result"
    }
   ],
   "source": [
    "%%sql sqlite://\n",
    "CREATE TABLE customer(\n",
    "    CustID int8 PRIMARY KEY,\n",
    "    CustName varchar(50) NOT NULL,\n",
    "    Age int8 NOT NULL,\n",
    "    City CHAR(10) NOT NULL,\n",
    "    Salary numeric\n",
    ")"
   ]
  },
  {
   "cell_type": "markdown",
   "metadata": {},
   "source": [
    "## iii. insert the values"
   ]
  },
  {
   "cell_type": "code",
   "execution_count": 8,
   "metadata": {},
   "outputs": [
    {
     "data": {
      "text/html": [
       "<span style=\"color: green\">4 rows affected.</span>"
      ],
      "text/plain": [
       "4 rows affected."
      ]
     },
     "metadata": {},
     "output_type": "display_data"
    },
    {
     "data": {
      "text/html": [
       "<table>\n",
       "    <thead>\n",
       "        <tr>\n",
       "        </tr>\n",
       "    </thead>\n",
       "    <tbody>\n",
       "    </tbody>\n",
       "</table>"
      ],
      "text/plain": [
       "++\n",
       "||\n",
       "++\n",
       "++"
      ]
     },
     "execution_count": 8,
     "metadata": {},
     "output_type": "execute_result"
    }
   ],
   "source": [
    "%%sql sqlite://\n",
    "INSERT INTO customer\n",
    "(CustID, CustName, Age, City, Salary)\n",
    "VALUES\n",
    "(1, 'Sam', 26, 'Delhi', 9000),\n",
    "(2, 'Ram', 19, 'Bangalore', 11000),\n",
    "(3, 'Pam', 31, 'Mumbai', 6000),\n",
    "(4, 'Jam', 42, 'Pune', 10000);"
   ]
  },
  {
   "cell_type": "markdown",
   "metadata": {},
   "source": [
    "## iv. use select stament to show the data"
   ]
  },
  {
   "cell_type": "code",
   "execution_count": 9,
   "metadata": {},
   "outputs": [
    {
     "data": {
      "text/html": [
       "<table>\n",
       "    <thead>\n",
       "        <tr>\n",
       "            <th>CustID</th>\n",
       "            <th>CustName</th>\n",
       "            <th>Age</th>\n",
       "            <th>City</th>\n",
       "            <th>Salary</th>\n",
       "        </tr>\n",
       "    </thead>\n",
       "    <tbody>\n",
       "        <tr>\n",
       "            <td>5</td>\n",
       "            <td>sid</td>\n",
       "            <td>21</td>\n",
       "            <td>Mumbai</td>\n",
       "            <td>600000</td>\n",
       "        </tr>\n",
       "        <tr>\n",
       "            <td>6</td>\n",
       "            <td>jone</td>\n",
       "            <td>19</td>\n",
       "            <td>Pune</td>\n",
       "            <td>11000</td>\n",
       "        </tr>\n",
       "        <tr>\n",
       "            <td>7</td>\n",
       "            <td>Pnadu</td>\n",
       "            <td>31</td>\n",
       "            <td>Panjab</td>\n",
       "            <td>6000</td>\n",
       "        </tr>\n",
       "        <tr>\n",
       "            <td>8</td>\n",
       "            <td>Joshep</td>\n",
       "            <td>42</td>\n",
       "            <td>Mohali</td>\n",
       "            <td>10000</td>\n",
       "        </tr>\n",
       "        <tr>\n",
       "            <td>1</td>\n",
       "            <td>Sam</td>\n",
       "            <td>26</td>\n",
       "            <td>Delhi</td>\n",
       "            <td>9000</td>\n",
       "        </tr>\n",
       "        <tr>\n",
       "            <td>2</td>\n",
       "            <td>Ram</td>\n",
       "            <td>19</td>\n",
       "            <td>Bangalore</td>\n",
       "            <td>11000</td>\n",
       "        </tr>\n",
       "        <tr>\n",
       "            <td>3</td>\n",
       "            <td>Pam</td>\n",
       "            <td>31</td>\n",
       "            <td>Mumbai</td>\n",
       "            <td>6000</td>\n",
       "        </tr>\n",
       "        <tr>\n",
       "            <td>4</td>\n",
       "            <td>Jam</td>\n",
       "            <td>42</td>\n",
       "            <td>Pune</td>\n",
       "            <td>10000</td>\n",
       "        </tr>\n",
       "    </tbody>\n",
       "</table>"
      ],
      "text/plain": [
       "+--------+----------+-----+-----------+--------+\n",
       "| CustID | CustName | Age |    City   | Salary |\n",
       "+--------+----------+-----+-----------+--------+\n",
       "|   5    |   sid    |  21 |   Mumbai  | 600000 |\n",
       "|   6    |   jone   |  19 |    Pune   | 11000  |\n",
       "|   7    |  Pnadu   |  31 |   Panjab  |  6000  |\n",
       "|   8    |  Joshep  |  42 |   Mohali  | 10000  |\n",
       "|   1    |   Sam    |  26 |   Delhi   |  9000  |\n",
       "|   2    |   Ram    |  19 | Bangalore | 11000  |\n",
       "|   3    |   Pam    |  31 |   Mumbai  |  6000  |\n",
       "|   4    |   Jam    |  42 |    Pune   | 10000  |\n",
       "+--------+----------+-----+-----------+--------+"
      ]
     },
     "execution_count": 9,
     "metadata": {},
     "output_type": "execute_result"
    }
   ],
   "source": [
    "%%sql sqlite://\n",
    "SELECT * FROM customer;"
   ]
  },
  {
   "cell_type": "markdown",
   "metadata": {},
   "source": [
    "## v. update the values in Table"
   ]
  },
  {
   "cell_type": "code",
   "execution_count": 11,
   "metadata": {},
   "outputs": [
    {
     "data": {
      "text/html": [
       "<span style=\"color: green\">1 rows affected.</span>"
      ],
      "text/plain": [
       "1 rows affected."
      ]
     },
     "metadata": {},
     "output_type": "display_data"
    },
    {
     "data": {
      "text/html": [
       "<table>\n",
       "    <thead>\n",
       "        <tr>\n",
       "        </tr>\n",
       "    </thead>\n",
       "    <tbody>\n",
       "    </tbody>\n",
       "</table>"
      ],
      "text/plain": [
       "++\n",
       "||\n",
       "++\n",
       "++"
      ]
     },
     "execution_count": 11,
     "metadata": {},
     "output_type": "execute_result"
    }
   ],
   "source": [
    "%%sql sqlite://\n",
    "UPDATE customer \n",
    "SET Age=28 where CustID=1;"
   ]
  },
  {
   "cell_type": "code",
   "execution_count": 13,
   "metadata": {},
   "outputs": [
    {
     "data": {
      "text/html": [
       "<span style=\"color: green\">1 rows affected.</span>"
      ],
      "text/plain": [
       "1 rows affected."
      ]
     },
     "metadata": {},
     "output_type": "display_data"
    },
    {
     "data": {
      "text/html": [
       "<table>\n",
       "    <thead>\n",
       "        <tr>\n",
       "        </tr>\n",
       "    </thead>\n",
       "    <tbody>\n",
       "    </tbody>\n",
       "</table>"
      ],
      "text/plain": [
       "++\n",
       "||\n",
       "++\n",
       "++"
      ]
     },
     "execution_count": 13,
     "metadata": {},
     "output_type": "execute_result"
    }
   ],
   "source": [
    "%%sql sqlite://\n",
    "UPDATE customer \n",
    "set Age = 22 , Salary=700000 where CustID=5;"
   ]
  },
  {
   "cell_type": "markdown",
   "metadata": {},
   "source": [
    "## vi. Delete values in Table"
   ]
  },
  {
   "cell_type": "code",
   "execution_count": 15,
   "metadata": {},
   "outputs": [
    {
     "data": {
      "text/html": [
       "<span style=\"color: green\">1 rows affected.</span>"
      ],
      "text/plain": [
       "1 rows affected."
      ]
     },
     "metadata": {},
     "output_type": "display_data"
    },
    {
     "data": {
      "text/html": [
       "<table>\n",
       "    <thead>\n",
       "        <tr>\n",
       "        </tr>\n",
       "    </thead>\n",
       "    <tbody>\n",
       "    </tbody>\n",
       "</table>"
      ],
      "text/plain": [
       "++\n",
       "||\n",
       "++\n",
       "++"
      ]
     },
     "execution_count": 15,
     "metadata": {},
     "output_type": "execute_result"
    }
   ],
   "source": [
    "%%sql sqlite://\n",
    "DELETE FROM customer where CustID=7;"
   ]
  },
  {
   "cell_type": "markdown",
   "metadata": {},
   "source": [
    "## vii. ALTER Table"
   ]
  },
  {
   "cell_type": "code",
   "execution_count": 17,
   "metadata": {},
   "outputs": [
    {
     "data": {
      "text/plain": [
       "'• ADD Column Syntax: Adding new ‘Gender’ column to customer table\\nALTER TABLE customer\\nADD COLUMN Gender varchar(10);\\n\\n• ALTER/MODIFY COLUMN Syntax: changing Gender column data type from varchar(10) to char(10)\\nALTER TABLE customer\\nALTER COLUMN Gender char(10);\\n\\n• DROP COLUMN Syntax: Deleting Gender column from customer table\\nALTER TABLE customer\\nDROP COLUMN Gender; '"
      ]
     },
     "execution_count": 17,
     "metadata": {},
     "output_type": "execute_result"
    }
   ],
   "source": [
    "'''• ADD Column Syntax: Adding new ‘Gender’ column to customer table\n",
    "ALTER TABLE customer\n",
    "ADD COLUMN Gender varchar(10);\n",
    "\n",
    "• ALTER/MODIFY COLUMN Syntax: changing Gender column data type from varchar(10) to char(10)\n",
    "ALTER TABLE customer\n",
    "ALTER COLUMN Gender char(10);\n",
    "\n",
    "• DROP COLUMN Syntax: Deleting Gender column from customer table\n",
    "ALTER TABLE customer\n",
    "DROP COLUMN Gender; '''"
   ]
  },
  {
   "cell_type": "markdown",
   "metadata": {},
   "source": [
    "## viii. Drop & Truncate Table"
   ]
  },
  {
   "cell_type": "code",
   "execution_count": 18,
   "metadata": {},
   "outputs": [
    {
     "data": {
      "text/plain": [
       "'\\nThe DROP TABLE command deletes a table in the database :\\n-> DROP TABLE table_name;\\n\\nThe TRUNCATE TABLE command deletes the data inside a table, but not the table itself:\\n-> TRUNCATE TABLE table_name; '"
      ]
     },
     "execution_count": 18,
     "metadata": {},
     "output_type": "execute_result"
    }
   ],
   "source": [
    "'''\n",
    "The DROP TABLE command deletes a table in the database :\n",
    "-> DROP TABLE table_name;\n",
    "\n",
    "The TRUNCATE TABLE command deletes the data inside a table, but not the table itself:\n",
    "-> TRUNCATE TABLE table_name; '''"
   ]
  },
  {
   "cell_type": "markdown",
   "metadata": {},
   "source": [
    "## ix. SELECT & WHERE CLAUSE"
   ]
  },
  {
   "cell_type": "code",
   "execution_count": 19,
   "metadata": {},
   "outputs": [
    {
     "data": {
      "text/html": [
       "<table>\n",
       "    <thead>\n",
       "        <tr>\n",
       "            <th>CustID</th>\n",
       "            <th>CustName</th>\n",
       "            <th>Age</th>\n",
       "            <th>City</th>\n",
       "            <th>Salary</th>\n",
       "        </tr>\n",
       "    </thead>\n",
       "    <tbody>\n",
       "        <tr>\n",
       "            <td>5</td>\n",
       "            <td>sid</td>\n",
       "            <td>22</td>\n",
       "            <td>Mumbai</td>\n",
       "            <td>700000</td>\n",
       "        </tr>\n",
       "        <tr>\n",
       "            <td>6</td>\n",
       "            <td>jone</td>\n",
       "            <td>19</td>\n",
       "            <td>Pune</td>\n",
       "            <td>11000</td>\n",
       "        </tr>\n",
       "        <tr>\n",
       "            <td>8</td>\n",
       "            <td>Joshep</td>\n",
       "            <td>42</td>\n",
       "            <td>Mohali</td>\n",
       "            <td>10000</td>\n",
       "        </tr>\n",
       "        <tr>\n",
       "            <td>1</td>\n",
       "            <td>Sam</td>\n",
       "            <td>28</td>\n",
       "            <td>Delhi</td>\n",
       "            <td>9000</td>\n",
       "        </tr>\n",
       "        <tr>\n",
       "            <td>2</td>\n",
       "            <td>Ram</td>\n",
       "            <td>19</td>\n",
       "            <td>Bangalore</td>\n",
       "            <td>11000</td>\n",
       "        </tr>\n",
       "        <tr>\n",
       "            <td>3</td>\n",
       "            <td>Pam</td>\n",
       "            <td>31</td>\n",
       "            <td>Mumbai</td>\n",
       "            <td>6000</td>\n",
       "        </tr>\n",
       "        <tr>\n",
       "            <td>4</td>\n",
       "            <td>Jam</td>\n",
       "            <td>42</td>\n",
       "            <td>Pune</td>\n",
       "            <td>10000</td>\n",
       "        </tr>\n",
       "    </tbody>\n",
       "</table>"
      ],
      "text/plain": [
       "+--------+----------+-----+-----------+--------+\n",
       "| CustID | CustName | Age |    City   | Salary |\n",
       "+--------+----------+-----+-----------+--------+\n",
       "|   5    |   sid    |  22 |   Mumbai  | 700000 |\n",
       "|   6    |   jone   |  19 |    Pune   | 11000  |\n",
       "|   8    |  Joshep  |  42 |   Mohali  | 10000  |\n",
       "|   1    |   Sam    |  28 |   Delhi   |  9000  |\n",
       "|   2    |   Ram    |  19 | Bangalore | 11000  |\n",
       "|   3    |   Pam    |  31 |   Mumbai  |  6000  |\n",
       "|   4    |   Jam    |  42 |    Pune   | 10000  |\n",
       "+--------+----------+-----+-----------+--------+"
      ]
     },
     "execution_count": 19,
     "metadata": {},
     "output_type": "execute_result"
    }
   ],
   "source": [
    "%%sql sqlite://\n",
    "SELECT * FROM customer;"
   ]
  },
  {
   "cell_type": "code",
   "execution_count": 20,
   "metadata": {},
   "outputs": [
    {
     "data": {
      "text/html": [
       "<table>\n",
       "    <thead>\n",
       "        <tr>\n",
       "            <th>CustName</th>\n",
       "            <th>Age</th>\n",
       "        </tr>\n",
       "    </thead>\n",
       "    <tbody>\n",
       "        <tr>\n",
       "            <td>sid</td>\n",
       "            <td>22</td>\n",
       "        </tr>\n",
       "        <tr>\n",
       "            <td>jone</td>\n",
       "            <td>19</td>\n",
       "        </tr>\n",
       "        <tr>\n",
       "            <td>Joshep</td>\n",
       "            <td>42</td>\n",
       "        </tr>\n",
       "        <tr>\n",
       "            <td>Sam</td>\n",
       "            <td>28</td>\n",
       "        </tr>\n",
       "        <tr>\n",
       "            <td>Ram</td>\n",
       "            <td>19</td>\n",
       "        </tr>\n",
       "        <tr>\n",
       "            <td>Pam</td>\n",
       "            <td>31</td>\n",
       "        </tr>\n",
       "        <tr>\n",
       "            <td>Jam</td>\n",
       "            <td>42</td>\n",
       "        </tr>\n",
       "    </tbody>\n",
       "</table>"
      ],
      "text/plain": [
       "+----------+-----+\n",
       "| CustName | Age |\n",
       "+----------+-----+\n",
       "|   sid    |  22 |\n",
       "|   jone   |  19 |\n",
       "|  Joshep  |  42 |\n",
       "|   Sam    |  28 |\n",
       "|   Ram    |  19 |\n",
       "|   Pam    |  31 |\n",
       "|   Jam    |  42 |\n",
       "+----------+-----+"
      ]
     },
     "execution_count": 20,
     "metadata": {},
     "output_type": "execute_result"
    }
   ],
   "source": [
    "%%sql sqlite://\n",
    "SELECT CustName , Age from customer;"
   ]
  },
  {
   "cell_type": "markdown",
   "metadata": {},
   "source": [
    "Where Clause"
   ]
  },
  {
   "cell_type": "code",
   "execution_count": 21,
   "metadata": {},
   "outputs": [
    {
     "data": {
      "text/html": [
       "<table>\n",
       "    <thead>\n",
       "        <tr>\n",
       "            <th>CustID</th>\n",
       "            <th>CustName</th>\n",
       "            <th>Age</th>\n",
       "            <th>City</th>\n",
       "            <th>Salary</th>\n",
       "        </tr>\n",
       "    </thead>\n",
       "    <tbody>\n",
       "        <tr>\n",
       "            <td>8</td>\n",
       "            <td>Joshep</td>\n",
       "            <td>42</td>\n",
       "            <td>Mohali</td>\n",
       "            <td>10000</td>\n",
       "        </tr>\n",
       "        <tr>\n",
       "            <td>1</td>\n",
       "            <td>Sam</td>\n",
       "            <td>28</td>\n",
       "            <td>Delhi</td>\n",
       "            <td>9000</td>\n",
       "        </tr>\n",
       "        <tr>\n",
       "            <td>3</td>\n",
       "            <td>Pam</td>\n",
       "            <td>31</td>\n",
       "            <td>Mumbai</td>\n",
       "            <td>6000</td>\n",
       "        </tr>\n",
       "        <tr>\n",
       "            <td>4</td>\n",
       "            <td>Jam</td>\n",
       "            <td>42</td>\n",
       "            <td>Pune</td>\n",
       "            <td>10000</td>\n",
       "        </tr>\n",
       "    </tbody>\n",
       "</table>"
      ],
      "text/plain": [
       "+--------+----------+-----+--------+--------+\n",
       "| CustID | CustName | Age |  City  | Salary |\n",
       "+--------+----------+-----+--------+--------+\n",
       "|   8    |  Joshep  |  42 | Mohali | 10000  |\n",
       "|   1    |   Sam    |  28 | Delhi  |  9000  |\n",
       "|   3    |   Pam    |  31 | Mumbai |  6000  |\n",
       "|   4    |   Jam    |  42 |  Pune  | 10000  |\n",
       "+--------+----------+-----+--------+--------+"
      ]
     },
     "execution_count": 21,
     "metadata": {},
     "output_type": "execute_result"
    }
   ],
   "source": [
    "%%sql sqlite://\n",
    "SELECT * from customer where Age > 25;"
   ]
  },
  {
   "cell_type": "code",
   "execution_count": null,
   "metadata": {},
   "outputs": [],
   "source": [
    "%%sql sqlite://"
   ]
  },
  {
   "cell_type": "code",
   "execution_count": null,
   "metadata": {},
   "outputs": [],
   "source": []
  },
  {
   "cell_type": "markdown",
   "metadata": {},
   "source": []
  },
  {
   "cell_type": "markdown",
   "metadata": {},
   "source": []
  }
 ],
 "metadata": {
  "kernelspec": {
   "display_name": "Python 3",
   "language": "python",
   "name": "python3"
  },
  "language_info": {
   "codemirror_mode": {
    "name": "ipython",
    "version": 3
   },
   "file_extension": ".py",
   "mimetype": "text/x-python",
   "name": "python",
   "nbconvert_exporter": "python",
   "pygments_lexer": "ipython3",
   "version": "3.10.5"
  }
 },
 "nbformat": 4,
 "nbformat_minor": 2
}
